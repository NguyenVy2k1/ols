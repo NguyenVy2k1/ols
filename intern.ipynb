{
  "nbformat": 4,
  "nbformat_minor": 0,
  "metadata": {
    "colab": {
      "name": "hello.ipynb",
      "provenance": [],
      "collapsed_sections": [],
      "authorship_tag": "ABX9TyMxXjDyPzhPgQpyJOR85kng",
      "include_colab_link": true
    },
    "kernelspec": {
      "name": "python3",
      "display_name": "Python 3"
    },
    "language_info": {
      "name": "python"
    },
    "accelerator": "GPU",
    "gpuClass": "standard"
  },
  "cells": [
    {
      "cell_type": "markdown",
      "metadata": {
        "id": "view-in-github",
        "colab_type": "text"
      },
      "source": [
        "<a href=\"https://colab.research.google.com/github/NguyenVy2k1/ols/blob/main/intern.ipynb\" target=\"_parent\"><img src=\"https://colab.research.google.com/assets/colab-badge.svg\" alt=\"Open In Colab\"/></a>"
      ]
    },
    {
      "cell_type": "markdown",
      "source": [
        ""
      ],
      "metadata": {
        "id": "K8AGnZk88wqF"
      }
    },
    {
      "cell_type": "code",
      "execution_count": 19,
      "metadata": {
        "id": "No_s95Jg1HYc"
      },
      "outputs": [],
      "source": [
        "import matplotlib.pyplot          as plt\n",
        "import numpy                      as np\n",
        "import matplotlib.pyplot          as plt\n",
        "import numpy                      as np\n",
        "from keras.preprocessing.image    import load_img\n",
        "from keras.preprocessing.image    import img_to_array\n",
        "from keras.models                 import load_model\n",
        "from keras.utils                  import np_utils\n",
        "from keras.models                 import Sequential\n",
        "from keras.layers                 import Dense, Activation, BatchNormalization, Dropout, LSTM\n",
        "from keras.layers                 import Conv2D\n",
        "from keras.layers                 import MaxPooling2D\n",
        "from keras.layers                 import Flatten\n",
        "from keras.callbacks              import EarlyStopping \n",
        "from tensorflow.keras.optimizers  import SGD"
      ]
    },
    {
      "cell_type": "code",
      "source": [
        "x_train = np.zeros((580,220,220,3))\n",
        "x_test = np.zeros((63,220,220,3))"
      ],
      "metadata": {
        "id": "0Eqz0VzX1NLt"
      },
      "execution_count": 3,
      "outputs": []
    },
    {
      "cell_type": "code",
      "source": [
        "from google.colab import drive\n",
        "drive.mount('/content/drive')"
      ],
      "metadata": {
        "colab": {
          "base_uri": "https://localhost:8080/"
        },
        "id": "6B0jo-9t2AwL",
        "outputId": "42c8986c-5e79-4296-bd43-679b71840ac3"
      },
      "execution_count": 4,
      "outputs": [
        {
          "output_type": "stream",
          "name": "stdout",
          "text": [
            "Mounted at /content/drive\n"
          ]
        }
      ]
    },
    {
      "cell_type": "code",
      "source": [
        "y_train = [0,0,0,0,0,0,0,0,0,0,0,0,0,0,0,0,0,0,0,0,\n",
        "           0,0,0,0,0,0,0,0,0,0,0,0,0,0,0,0,0,0,0,0,\n",
        "           0,0,0,0,0,0,0,0,0,0,0,0,0,0,0,0,0,0,0,0,\n",
        "           0,0,0,0,0,0,0,0,0,0,0,0,0,0,0,0,0,0,0,0,\n",
        "           0,0,0,0,0,0,0,0,0,0,0,0,0,0,0,0,0,0,0,0,\n",
        "           0,0,0,0,0,0,0,0,0,0,0,0,0,0,0,0,\n",
        "\n",
        "           1,1,1,1,1,1,1,1,1,1,1,1,1,1,1,1,1,1,1,1,\n",
        "           1,1,1,1,1,1,1,1,1,1,1,1,1,1,1,1,1,1,1,1,\n",
        "           1,1,1,1,1,1,1,1,1,1,1,1,1,1,1,1,1,1,1,1,\n",
        "           1,1,1,1,1,1,1,1,1,1,1,1,1,1,1,1,1,1,1,1,\n",
        "           1,1,1,1,1,1,1,1,1,1,1,\n",
        "\n",
        "           2,2,2,2,2,2,2,2,2,2,2,2,2,2,2,2,2,2,2,2,\n",
        "           2,2,2,2,2,2,2,2,2,2,2,2,2,2,2,2,2,2,2,2,\n",
        "           2,2,2,2,2,2,2,2,2,2,2,2,2,2,2,2,2,2,2,2,\n",
        "           2,2,2,2,2,2,2,2,2,2,2,2,2,2,2,2,2,2,2,2,\n",
        "           2,2,2,2,2,2,2,2,2,2,2,2,2,2,2,2,2,2,2,2,\n",
        "           2,2,2,2,2,2,2,2,2,2,2,2,2,2,2,2,2,2,2,2,\n",
        "           2,2,2,2,2,2,2,2,2,2,2,2,2,2,2,2,2,2,2,2,\n",
        "           2,2,2,2,2,2,2,2,2,2,2,2,2,2,2,2,2,2,2,2,\n",
        "           2,2,2,2,2,2,2,2,2,2,2,2,2,2,2,2,2,2,2,2,\n",
        "           2,2,2,2,2,2,2,2,2,2,2,2,2,2,2,2,2,2,2,2,\n",
        "           2,2,2,2,2,2,2,2,2,2,2,2,2,2,2,2,2,2,2,2,\n",
        "           2,2,2,2,2,2,2,2,2,2,2,2,2,2,2,2,2,2,2,2,\n",
        "           2,2,2,2,2,2,2,2,2,2,2,2,2,2,2,2,2,2,2,2,\n",
        "           2,2,2,2,2,2,2,2,2,2,2,2,2,2,2,2,2,2,2,2,\n",
        "           2,2,2,2,2,2,2,2,2,2,2,2,2,2,2,2,2,2,2,2,\n",
        "           2,2,2,2,2,2,2,2,2,2,2,2,2,2,2,2,2,2,2,2,\n",
        "           2,2,2,2,2,2,2,2,2,2,2,2,2,2,2,2,2,2,2,2,\n",
        "           2,2,2,2,2,2,2,2,2,2,2,2,2,2,2,2,2,2,2,2,\n",
        "           2,2,2,2,2,2,2,2,2,2,2,2,2]\n",
        "\n",
        "y_test = [0,0,0,0,0,0,0,0,0,0,0,\n",
        "          1,1,1,1,1,1,1,1,1,1,1,\n",
        "          2,2,2,2,2,2,2,2,2,2,\n",
        "          2,2,2,2,2,2,2,2,2,2,\n",
        "          2,2,2,2,2,2,2,2,2,2,\n",
        "          2,2,2,2,2,2,2,2,2,2,2]"
      ],
      "metadata": {
        "id": "K7cA_Awd7MhN"
      },
      "execution_count": 5,
      "outputs": []
    },
    {
      "cell_type": "code",
      "source": [
        "for i in range(114):\n",
        "  x_train[i] = load_img('/content/drive/MyDrive/data/train/benign_cases'+ \n",
        "                        str(i+1+10) +'.png', target_size=(220,220))\n",
        "  x_train[i] = img_to_array(x_train[i]) \n",
        "  \n",
        "for i in range(115,205):\n",
        "  x_train[i] = load_img('/content/drive/MyDrive/data/train/malignant_cases'+ \n",
        "                        str(i+1-105) +'.png', target_size=(220,220))\n",
        "  x_train[i] = img_to_array(x_train[i])  \n",
        "\n",
        "for i in range(206,578):\n",
        "  x_train[i] = load_img('/content/drive/MyDrive/data/train/normal_cases'+ \n",
        "                        str(i+1+834) +'.png', target_size=(220,220))\n",
        "  x_train[i] = img_to_array(x_train[i]) \n"
      ],
      "metadata": {
        "id": "S7gW_s01Gff1"
      },
      "execution_count": 6,
      "outputs": []
    },
    {
      "cell_type": "code",
      "source": [
        "for i in range(9):\n",
        "  x_test[i] = load_img('/content/drive/MyDrive/data/test/benign_cases'+ \n",
        "                       str(i+1) +'.png', target_size=(220,220))\n",
        "  x_test[i] = img_to_array(x_test[i]) \n",
        "\n",
        "for i in range(10,20) :\n",
        "  x_test[i] = load_img('/content/drive/MyDrive/data/test/malignant_cases'+ \n",
        "                       str(i+1-11) +'.png', target_size=(220,220))\n",
        "  x_test[i] = img_to_array(x_test[i]) \n",
        "\n",
        "for i in range(21,61):\n",
        "  x_test[i] = load_img('/content/drive/MyDrive/data/test/normal_cases'+ \n",
        "                       str(i+1+978) +'.png', target_size=(220,220))\n",
        "  x_test[i] = img_to_array(x_test[i]) "
      ],
      "metadata": {
        "id": "pLVzfF971zrk"
      },
      "execution_count": 7,
      "outputs": []
    },
    {
      "cell_type": "code",
      "source": [
        "x_train = x_train.reshape(580, 220, 220,3)\n",
        "x_test  = x_test.reshape(63, 220, 220,3)\n",
        "x_train = x_train.astype('float32')\n",
        "x_test  = x_test.astype('float32')\n",
        "\n",
        "x_train/=255\n",
        "x_test/=255\n",
        "\n",
        "y_train = np_utils.to_categorical(y_train,3)\n",
        "y_test  = np_utils.to_categorical(y_test,3)"
      ],
      "metadata": {
        "id": "oVr0Vd3E6FiB"
      },
      "execution_count": 8,
      "outputs": []
    },
    {
      "cell_type": "code",
      "source": [
        "model = Sequential()\n",
        "\n",
        "model.add(Conv2D(4, (3, 3), activation='relu', \n",
        "                             kernel_initializer='he_uniform', \n",
        "                             padding='same', input_shape=(220, 220, 3)))\n",
        "model.add(BatchNormalization())\n",
        "model.add(Conv2D(4, (3, 3), activation='relu', \n",
        "                             kernel_initializer='he_uniform', \n",
        "                             padding='same'))\n",
        "model.add(BatchNormalization())\n",
        "model.add(MaxPooling2D((2, 2)))\n",
        "model.add(Dropout(0.3))\n",
        "\n",
        "\n",
        "model.add(Conv2D(8, (3, 3), activation='relu', \n",
        "                             kernel_initializer='he_uniform', \n",
        "                             padding='same'))\n",
        "model.add(BatchNormalization())\n",
        "model.add(Conv2D(8, (3, 3), activation='relu', \n",
        "                             kernel_initializer='he_uniform', \n",
        "                             padding='same'))\n",
        "model.add(BatchNormalization())\n",
        "model.add(MaxPooling2D((2, 2)))\n",
        "model.add(Dropout(0.3))\n",
        "\n",
        "\n",
        "model.add(Conv2D(16, (3, 3), activation='relu', \n",
        "                             kernel_initializer='he_uniform', \n",
        "                             padding='same'))\n",
        "model.add(BatchNormalization())\n",
        "model.add(Conv2D(16, (3, 3), activation='relu', \n",
        "                             kernel_initializer='he_uniform', \n",
        "                             padding='same'))\n",
        "model.add(BatchNormalization())\n",
        "model.add(MaxPooling2D((2, 2)))\n",
        "model.add(Dropout(0.3))\n",
        "\n",
        "model.add(Conv2D(32, (3, 3), activation='relu', \n",
        "                             kernel_initializer='he_uniform', \n",
        "                             padding='same'))\n",
        "\n",
        "model.add(BatchNormalization())\n",
        "model.add(Conv2D(32, (3, 3), activation='relu', \n",
        "                             kernel_initializer='he_uniform', \n",
        "                             padding='same'))\n",
        "model.add(BatchNormalization())\n",
        "model.add(MaxPooling2D((2, 2)))\n",
        "model.add(Dropout(0.3))\n",
        "\n",
        "\n",
        "model.add(Conv2D(64, (3, 3), activation='relu', \n",
        "                             kernel_initializer='he_uniform', \n",
        "                             padding='same'))\n",
        "model.add(BatchNormalization())\n",
        "model.add(Conv2D(64, (3, 3), activation='relu', \n",
        "                             kernel_initializer='he_uniform', \n",
        "                             padding='same'))\n",
        "model.add(BatchNormalization())\t\n",
        "model.add(MaxPooling2D((2, 2)))\n",
        "model.add(Dropout(0.3))\n",
        "\n",
        "model.add(Conv2D(64, (3, 3), activation='relu', \n",
        "                             kernel_initializer='he_uniform', \n",
        "                             padding='same'))\n",
        "model.add(BatchNormalization())\n",
        "model.add(Conv2D(64, (3, 3), activation='relu', \n",
        "                             kernel_initializer='he_uniform', \n",
        "                             padding='same'))\n",
        "model.add(BatchNormalization())\t\n",
        "model.add(MaxPooling2D((2, 2)))\n",
        "model.add(Dropout(0.3))\n",
        "\n",
        "model.add(Conv2D(128, (3, 3), activation='relu', \n",
        "                              kernel_initializer='he_uniform', \n",
        "                              padding='same'))\n",
        "model.add(BatchNormalization())\n",
        "model.add(Conv2D(128, (3, 3), activation='relu', \n",
        "                              kernel_initializer='he_uniform',\n",
        "                              padding='same'))\n",
        "model.add(BatchNormalization())\t\n",
        "model.add(MaxPooling2D((2, 2)))\n",
        "model.add(Dropout(0.3))\n",
        "\n",
        "model.add(Flatten())\n",
        "model.add(Dense(128, activation='relu', \n",
        "                     kernel_initializer='he_uniform'))\n",
        "model.add(BatchNormalization())\n",
        "model.add(Dropout(0.3))\t\n",
        "model.add(Dense(3, activation='sigmoid'))\n",
        "model.summary()"
      ],
      "metadata": {
        "id": "Esd7-XfX6mzo",
        "colab": {
          "base_uri": "https://localhost:8080/"
        },
        "outputId": "c0181861-f0e7-47af-eb3e-af84870e84cd"
      },
      "execution_count": 9,
      "outputs": [
        {
          "output_type": "stream",
          "name": "stdout",
          "text": [
            "Model: \"sequential\"\n",
            "_________________________________________________________________\n",
            " Layer (type)                Output Shape              Param #   \n",
            "=================================================================\n",
            " conv2d (Conv2D)             (None, 220, 220, 4)       112       \n",
            "                                                                 \n",
            " batch_normalization (BatchN  (None, 220, 220, 4)      16        \n",
            " ormalization)                                                   \n",
            "                                                                 \n",
            " conv2d_1 (Conv2D)           (None, 220, 220, 4)       148       \n",
            "                                                                 \n",
            " batch_normalization_1 (Batc  (None, 220, 220, 4)      16        \n",
            " hNormalization)                                                 \n",
            "                                                                 \n",
            " max_pooling2d (MaxPooling2D  (None, 110, 110, 4)      0         \n",
            " )                                                               \n",
            "                                                                 \n",
            " dropout (Dropout)           (None, 110, 110, 4)       0         \n",
            "                                                                 \n",
            " conv2d_2 (Conv2D)           (None, 110, 110, 8)       296       \n",
            "                                                                 \n",
            " batch_normalization_2 (Batc  (None, 110, 110, 8)      32        \n",
            " hNormalization)                                                 \n",
            "                                                                 \n",
            " conv2d_3 (Conv2D)           (None, 110, 110, 8)       584       \n",
            "                                                                 \n",
            " batch_normalization_3 (Batc  (None, 110, 110, 8)      32        \n",
            " hNormalization)                                                 \n",
            "                                                                 \n",
            " max_pooling2d_1 (MaxPooling  (None, 55, 55, 8)        0         \n",
            " 2D)                                                             \n",
            "                                                                 \n",
            " dropout_1 (Dropout)         (None, 55, 55, 8)         0         \n",
            "                                                                 \n",
            " conv2d_4 (Conv2D)           (None, 55, 55, 16)        1168      \n",
            "                                                                 \n",
            " batch_normalization_4 (Batc  (None, 55, 55, 16)       64        \n",
            " hNormalization)                                                 \n",
            "                                                                 \n",
            " conv2d_5 (Conv2D)           (None, 55, 55, 16)        2320      \n",
            "                                                                 \n",
            " batch_normalization_5 (Batc  (None, 55, 55, 16)       64        \n",
            " hNormalization)                                                 \n",
            "                                                                 \n",
            " max_pooling2d_2 (MaxPooling  (None, 27, 27, 16)       0         \n",
            " 2D)                                                             \n",
            "                                                                 \n",
            " dropout_2 (Dropout)         (None, 27, 27, 16)        0         \n",
            "                                                                 \n",
            " conv2d_6 (Conv2D)           (None, 27, 27, 32)        4640      \n",
            "                                                                 \n",
            " batch_normalization_6 (Batc  (None, 27, 27, 32)       128       \n",
            " hNormalization)                                                 \n",
            "                                                                 \n",
            " conv2d_7 (Conv2D)           (None, 27, 27, 32)        9248      \n",
            "                                                                 \n",
            " batch_normalization_7 (Batc  (None, 27, 27, 32)       128       \n",
            " hNormalization)                                                 \n",
            "                                                                 \n",
            " max_pooling2d_3 (MaxPooling  (None, 13, 13, 32)       0         \n",
            " 2D)                                                             \n",
            "                                                                 \n",
            " dropout_3 (Dropout)         (None, 13, 13, 32)        0         \n",
            "                                                                 \n",
            " conv2d_8 (Conv2D)           (None, 13, 13, 64)        18496     \n",
            "                                                                 \n",
            " batch_normalization_8 (Batc  (None, 13, 13, 64)       256       \n",
            " hNormalization)                                                 \n",
            "                                                                 \n",
            " conv2d_9 (Conv2D)           (None, 13, 13, 64)        36928     \n",
            "                                                                 \n",
            " batch_normalization_9 (Batc  (None, 13, 13, 64)       256       \n",
            " hNormalization)                                                 \n",
            "                                                                 \n",
            " max_pooling2d_4 (MaxPooling  (None, 6, 6, 64)         0         \n",
            " 2D)                                                             \n",
            "                                                                 \n",
            " dropout_4 (Dropout)         (None, 6, 6, 64)          0         \n",
            "                                                                 \n",
            " conv2d_10 (Conv2D)          (None, 6, 6, 64)          36928     \n",
            "                                                                 \n",
            " batch_normalization_10 (Bat  (None, 6, 6, 64)         256       \n",
            " chNormalization)                                                \n",
            "                                                                 \n",
            " conv2d_11 (Conv2D)          (None, 6, 6, 64)          36928     \n",
            "                                                                 \n",
            " batch_normalization_11 (Bat  (None, 6, 6, 64)         256       \n",
            " chNormalization)                                                \n",
            "                                                                 \n",
            " max_pooling2d_5 (MaxPooling  (None, 3, 3, 64)         0         \n",
            " 2D)                                                             \n",
            "                                                                 \n",
            " dropout_5 (Dropout)         (None, 3, 3, 64)          0         \n",
            "                                                                 \n",
            " conv2d_12 (Conv2D)          (None, 3, 3, 128)         73856     \n",
            "                                                                 \n",
            " batch_normalization_12 (Bat  (None, 3, 3, 128)        512       \n",
            " chNormalization)                                                \n",
            "                                                                 \n",
            " conv2d_13 (Conv2D)          (None, 3, 3, 128)         147584    \n",
            "                                                                 \n",
            " batch_normalization_13 (Bat  (None, 3, 3, 128)        512       \n",
            " chNormalization)                                                \n",
            "                                                                 \n",
            " max_pooling2d_6 (MaxPooling  (None, 1, 1, 128)        0         \n",
            " 2D)                                                             \n",
            "                                                                 \n",
            " dropout_6 (Dropout)         (None, 1, 1, 128)         0         \n",
            "                                                                 \n",
            " flatten (Flatten)           (None, 128)               0         \n",
            "                                                                 \n",
            " dense (Dense)               (None, 128)               16512     \n",
            "                                                                 \n",
            " batch_normalization_14 (Bat  (None, 128)              512       \n",
            " chNormalization)                                                \n",
            "                                                                 \n",
            " dropout_7 (Dropout)         (None, 128)               0         \n",
            "                                                                 \n",
            " dense_1 (Dense)             (None, 3)                 387       \n",
            "                                                                 \n",
            "=================================================================\n",
            "Total params: 389,175\n",
            "Trainable params: 387,655\n",
            "Non-trainable params: 1,520\n",
            "_________________________________________________________________\n"
          ]
        }
      ]
    },
    {
      "cell_type": "code",
      "source": [
        "opt=SGD(learning_rate=0.01,momentum=0.9)\n",
        "model.compile(loss='categorical_crossentropy',optimizer=opt, metrics=['acc'])\n",
        "history = model.fit(x_train,y_train,epochs=100,batch_size=1,validation_data=(x_test,y_test),verbose=1)"
      ],
      "metadata": {
        "colab": {
          "base_uri": "https://localhost:8080/"
        },
        "id": "R8CPcM-VAXwS",
        "outputId": "68b6f556-2bcc-479e-ee4d-e1a00eb0a906"
      },
      "execution_count": 10,
      "outputs": [
        {
          "output_type": "stream",
          "name": "stdout",
          "text": [
            "Epoch 1/100\n",
            "580/580 [==============================] - 19s 11ms/step - loss: 0.9395 - acc: 0.6397 - val_loss: 7.9126 - val_acc: 0.2857\n",
            "Epoch 2/100\n",
            "580/580 [==============================] - 6s 10ms/step - loss: 0.9020 - acc: 0.6431 - val_loss: 15.9409 - val_acc: 0.1905\n",
            "Epoch 3/100\n",
            "580/580 [==============================] - 6s 10ms/step - loss: 0.9194 - acc: 0.6362 - val_loss: 10.6907 - val_acc: 0.2381\n",
            "Epoch 4/100\n",
            "580/580 [==============================] - 6s 10ms/step - loss: 0.9136 - acc: 0.6431 - val_loss: 7.7879 - val_acc: 0.2381\n",
            "Epoch 5/100\n",
            "580/580 [==============================] - 6s 11ms/step - loss: 0.9154 - acc: 0.6431 - val_loss: 9.4141 - val_acc: 0.1746\n",
            "Epoch 6/100\n",
            "580/580 [==============================] - 7s 11ms/step - loss: 0.9120 - acc: 0.6431 - val_loss: 3.0061 - val_acc: 0.3333\n",
            "Epoch 7/100\n",
            "580/580 [==============================] - 6s 10ms/step - loss: 0.9177 - acc: 0.6431 - val_loss: 1.7722 - val_acc: 0.4921\n",
            "Epoch 8/100\n",
            "580/580 [==============================] - 6s 10ms/step - loss: 0.9149 - acc: 0.6431 - val_loss: 1.4185 - val_acc: 0.2540\n",
            "Epoch 9/100\n",
            "580/580 [==============================] - 6s 10ms/step - loss: 0.9128 - acc: 0.6431 - val_loss: 1.0357 - val_acc: 0.6508\n",
            "Epoch 10/100\n",
            "580/580 [==============================] - 6s 10ms/step - loss: 0.9115 - acc: 0.6431 - val_loss: 0.9026 - val_acc: 0.6508\n",
            "Epoch 11/100\n",
            "580/580 [==============================] - 6s 10ms/step - loss: 0.9075 - acc: 0.6431 - val_loss: 0.8962 - val_acc: 0.6508\n",
            "Epoch 12/100\n",
            "580/580 [==============================] - 6s 10ms/step - loss: 0.9122 - acc: 0.6431 - val_loss: 0.8925 - val_acc: 0.6508\n",
            "Epoch 13/100\n",
            "580/580 [==============================] - 6s 10ms/step - loss: 0.9109 - acc: 0.6431 - val_loss: 0.8840 - val_acc: 0.6508\n",
            "Epoch 14/100\n",
            "580/580 [==============================] - 6s 10ms/step - loss: 0.9133 - acc: 0.6431 - val_loss: 0.8834 - val_acc: 0.6508\n",
            "Epoch 15/100\n",
            "580/580 [==============================] - 6s 10ms/step - loss: 0.9101 - acc: 0.6431 - val_loss: 0.9018 - val_acc: 0.6508\n",
            "Epoch 16/100\n",
            "580/580 [==============================] - 6s 10ms/step - loss: 0.9155 - acc: 0.6431 - val_loss: 0.8918 - val_acc: 0.6508\n",
            "Epoch 17/100\n",
            "580/580 [==============================] - 6s 10ms/step - loss: 0.9121 - acc: 0.6431 - val_loss: 0.8910 - val_acc: 0.6508\n",
            "Epoch 18/100\n",
            "580/580 [==============================] - 6s 10ms/step - loss: 0.9103 - acc: 0.6431 - val_loss: 0.8934 - val_acc: 0.6508\n",
            "Epoch 19/100\n",
            "580/580 [==============================] - 6s 10ms/step - loss: 0.9088 - acc: 0.6431 - val_loss: 0.9296 - val_acc: 0.6508\n",
            "Epoch 20/100\n",
            "580/580 [==============================] - 6s 10ms/step - loss: 0.9122 - acc: 0.6431 - val_loss: 0.8915 - val_acc: 0.6508\n",
            "Epoch 21/100\n",
            "580/580 [==============================] - 6s 10ms/step - loss: 0.9078 - acc: 0.6431 - val_loss: 0.9159 - val_acc: 0.6508\n",
            "Epoch 22/100\n",
            "580/580 [==============================] - 6s 10ms/step - loss: 0.9122 - acc: 0.6431 - val_loss: 0.9110 - val_acc: 0.6508\n",
            "Epoch 23/100\n",
            "580/580 [==============================] - 6s 10ms/step - loss: 0.9089 - acc: 0.6431 - val_loss: 0.8934 - val_acc: 0.6508\n",
            "Epoch 24/100\n",
            "580/580 [==============================] - 6s 10ms/step - loss: 0.9113 - acc: 0.6431 - val_loss: 0.8933 - val_acc: 0.6508\n",
            "Epoch 25/100\n",
            "580/580 [==============================] - 6s 10ms/step - loss: 0.9085 - acc: 0.6431 - val_loss: 0.8890 - val_acc: 0.6508\n",
            "Epoch 26/100\n",
            "580/580 [==============================] - 6s 10ms/step - loss: 0.9094 - acc: 0.6431 - val_loss: 0.8942 - val_acc: 0.6508\n",
            "Epoch 27/100\n",
            "580/580 [==============================] - 6s 10ms/step - loss: 0.9097 - acc: 0.6431 - val_loss: 0.9034 - val_acc: 0.6508\n",
            "Epoch 28/100\n",
            "580/580 [==============================] - 6s 10ms/step - loss: 0.9060 - acc: 0.6431 - val_loss: 0.9263 - val_acc: 0.6508\n",
            "Epoch 29/100\n",
            "580/580 [==============================] - 6s 10ms/step - loss: 0.9084 - acc: 0.6431 - val_loss: 0.8960 - val_acc: 0.6508\n",
            "Epoch 30/100\n",
            "580/580 [==============================] - 6s 10ms/step - loss: 0.9185 - acc: 0.6431 - val_loss: 0.8899 - val_acc: 0.6508\n",
            "Epoch 31/100\n",
            "580/580 [==============================] - 6s 10ms/step - loss: 0.9143 - acc: 0.6431 - val_loss: 0.8907 - val_acc: 0.6508\n",
            "Epoch 32/100\n",
            "580/580 [==============================] - 6s 10ms/step - loss: 0.8986 - acc: 0.6431 - val_loss: 0.9162 - val_acc: 0.6508\n",
            "Epoch 33/100\n",
            "580/580 [==============================] - 6s 10ms/step - loss: 0.9076 - acc: 0.6431 - val_loss: 0.8904 - val_acc: 0.6508\n",
            "Epoch 34/100\n",
            "580/580 [==============================] - 6s 10ms/step - loss: 0.9130 - acc: 0.6431 - val_loss: 0.8984 - val_acc: 0.6508\n",
            "Epoch 35/100\n",
            "580/580 [==============================] - 6s 10ms/step - loss: 0.9136 - acc: 0.6431 - val_loss: 0.9041 - val_acc: 0.6508\n",
            "Epoch 36/100\n",
            "580/580 [==============================] - 6s 10ms/step - loss: 0.9115 - acc: 0.6431 - val_loss: 0.8980 - val_acc: 0.6508\n",
            "Epoch 37/100\n",
            "580/580 [==============================] - 6s 10ms/step - loss: 0.9056 - acc: 0.6431 - val_loss: 0.9255 - val_acc: 0.6508\n",
            "Epoch 38/100\n",
            "580/580 [==============================] - 6s 10ms/step - loss: 0.9076 - acc: 0.6431 - val_loss: 0.9082 - val_acc: 0.6508\n",
            "Epoch 39/100\n",
            "580/580 [==============================] - 6s 10ms/step - loss: 0.9111 - acc: 0.6431 - val_loss: 0.8982 - val_acc: 0.6508\n",
            "Epoch 40/100\n",
            "580/580 [==============================] - 6s 10ms/step - loss: 0.9095 - acc: 0.6431 - val_loss: 0.9222 - val_acc: 0.6508\n",
            "Epoch 41/100\n",
            "580/580 [==============================] - 6s 10ms/step - loss: 0.9057 - acc: 0.6431 - val_loss: 0.9209 - val_acc: 0.6508\n",
            "Epoch 42/100\n",
            "580/580 [==============================] - 6s 10ms/step - loss: 0.9034 - acc: 0.6431 - val_loss: 0.8908 - val_acc: 0.6508\n",
            "Epoch 43/100\n",
            "580/580 [==============================] - 6s 10ms/step - loss: 0.9146 - acc: 0.6431 - val_loss: 0.8897 - val_acc: 0.6508\n",
            "Epoch 44/100\n",
            "580/580 [==============================] - 6s 10ms/step - loss: 0.9046 - acc: 0.6431 - val_loss: 0.8939 - val_acc: 0.6508\n",
            "Epoch 45/100\n",
            "580/580 [==============================] - 6s 10ms/step - loss: 0.9127 - acc: 0.6431 - val_loss: 0.8904 - val_acc: 0.6508\n",
            "Epoch 46/100\n",
            "580/580 [==============================] - 6s 10ms/step - loss: 0.9095 - acc: 0.6431 - val_loss: 0.8982 - val_acc: 0.6508\n",
            "Epoch 47/100\n",
            "580/580 [==============================] - 6s 10ms/step - loss: 0.9138 - acc: 0.6431 - val_loss: 0.8951 - val_acc: 0.6508\n",
            "Epoch 48/100\n",
            "580/580 [==============================] - 6s 10ms/step - loss: 0.9049 - acc: 0.6431 - val_loss: 0.9152 - val_acc: 0.6508\n",
            "Epoch 49/100\n",
            "580/580 [==============================] - 6s 10ms/step - loss: 0.9172 - acc: 0.6431 - val_loss: 0.9037 - val_acc: 0.6508\n",
            "Epoch 50/100\n",
            "580/580 [==============================] - 6s 10ms/step - loss: 0.9091 - acc: 0.6431 - val_loss: 0.8934 - val_acc: 0.6508\n",
            "Epoch 51/100\n",
            "580/580 [==============================] - 7s 12ms/step - loss: 0.9104 - acc: 0.6431 - val_loss: 0.8959 - val_acc: 0.6508\n",
            "Epoch 52/100\n",
            "580/580 [==============================] - 6s 10ms/step - loss: 0.9074 - acc: 0.6431 - val_loss: 0.8940 - val_acc: 0.6508\n",
            "Epoch 53/100\n",
            "580/580 [==============================] - 6s 10ms/step - loss: 0.9137 - acc: 0.6431 - val_loss: 0.9037 - val_acc: 0.6508\n",
            "Epoch 54/100\n",
            "580/580 [==============================] - 6s 10ms/step - loss: 0.9036 - acc: 0.6431 - val_loss: 0.9633 - val_acc: 0.6508\n",
            "Epoch 55/100\n",
            "580/580 [==============================] - 6s 10ms/step - loss: 0.9218 - acc: 0.6431 - val_loss: 0.8925 - val_acc: 0.6508\n",
            "Epoch 56/100\n",
            "580/580 [==============================] - 6s 10ms/step - loss: 0.9088 - acc: 0.6431 - val_loss: 0.8903 - val_acc: 0.6508\n",
            "Epoch 57/100\n",
            "580/580 [==============================] - 6s 10ms/step - loss: 0.9149 - acc: 0.6431 - val_loss: 0.8912 - val_acc: 0.6508\n",
            "Epoch 58/100\n",
            "580/580 [==============================] - 6s 11ms/step - loss: 0.9175 - acc: 0.6431 - val_loss: 0.9011 - val_acc: 0.6508\n",
            "Epoch 59/100\n",
            "580/580 [==============================] - 6s 11ms/step - loss: 0.9069 - acc: 0.6431 - val_loss: 0.9119 - val_acc: 0.6508\n",
            "Epoch 60/100\n",
            "580/580 [==============================] - 6s 10ms/step - loss: 0.9060 - acc: 0.6431 - val_loss: 0.8933 - val_acc: 0.6508\n",
            "Epoch 61/100\n",
            "580/580 [==============================] - 6s 10ms/step - loss: 0.9137 - acc: 0.6431 - val_loss: 0.8909 - val_acc: 0.6508\n",
            "Epoch 62/100\n",
            "580/580 [==============================] - 6s 10ms/step - loss: 0.9082 - acc: 0.6431 - val_loss: 0.9170 - val_acc: 0.6508\n",
            "Epoch 63/100\n",
            "580/580 [==============================] - 6s 10ms/step - loss: 0.9106 - acc: 0.6431 - val_loss: 0.9073 - val_acc: 0.6508\n",
            "Epoch 64/100\n",
            "580/580 [==============================] - 6s 10ms/step - loss: 0.9118 - acc: 0.6431 - val_loss: 0.8923 - val_acc: 0.6508\n",
            "Epoch 65/100\n",
            "580/580 [==============================] - 6s 10ms/step - loss: 0.9123 - acc: 0.6431 - val_loss: 0.8977 - val_acc: 0.6508\n",
            "Epoch 66/100\n",
            "580/580 [==============================] - 6s 10ms/step - loss: 0.9143 - acc: 0.6431 - val_loss: 0.8998 - val_acc: 0.6508\n",
            "Epoch 67/100\n",
            "580/580 [==============================] - 6s 10ms/step - loss: 0.9133 - acc: 0.6431 - val_loss: 0.8923 - val_acc: 0.6508\n",
            "Epoch 68/100\n",
            "580/580 [==============================] - 6s 10ms/step - loss: 0.9133 - acc: 0.6431 - val_loss: 0.8970 - val_acc: 0.6508\n",
            "Epoch 69/100\n",
            "580/580 [==============================] - 6s 10ms/step - loss: 0.9104 - acc: 0.6431 - val_loss: 0.9041 - val_acc: 0.6508\n",
            "Epoch 70/100\n",
            "580/580 [==============================] - 6s 10ms/step - loss: 0.9162 - acc: 0.6431 - val_loss: 0.8992 - val_acc: 0.6508\n",
            "Epoch 71/100\n",
            "580/580 [==============================] - 6s 10ms/step - loss: 0.9077 - acc: 0.6431 - val_loss: 0.9122 - val_acc: 0.6508\n",
            "Epoch 72/100\n",
            "580/580 [==============================] - 6s 10ms/step - loss: 0.9175 - acc: 0.6431 - val_loss: 0.8902 - val_acc: 0.6508\n",
            "Epoch 73/100\n",
            "580/580 [==============================] - 6s 10ms/step - loss: 0.9109 - acc: 0.6431 - val_loss: 0.8956 - val_acc: 0.6508\n",
            "Epoch 74/100\n",
            "580/580 [==============================] - 6s 10ms/step - loss: 0.9078 - acc: 0.6431 - val_loss: 0.9055 - val_acc: 0.6508\n",
            "Epoch 75/100\n",
            "580/580 [==============================] - 6s 10ms/step - loss: 0.9134 - acc: 0.6431 - val_loss: 0.9197 - val_acc: 0.6508\n",
            "Epoch 76/100\n",
            "580/580 [==============================] - 6s 10ms/step - loss: 0.9119 - acc: 0.6431 - val_loss: 0.8989 - val_acc: 0.6508\n",
            "Epoch 77/100\n",
            "580/580 [==============================] - 6s 10ms/step - loss: 0.9015 - acc: 0.6431 - val_loss: 0.9143 - val_acc: 0.6508\n",
            "Epoch 78/100\n",
            "580/580 [==============================] - 6s 11ms/step - loss: 0.9187 - acc: 0.6431 - val_loss: 0.8908 - val_acc: 0.6508\n",
            "Epoch 79/100\n",
            "580/580 [==============================] - 6s 10ms/step - loss: 0.9133 - acc: 0.6431 - val_loss: 0.8925 - val_acc: 0.6508\n",
            "Epoch 80/100\n",
            "580/580 [==============================] - 6s 10ms/step - loss: 0.9060 - acc: 0.6431 - val_loss: 0.8942 - val_acc: 0.6508\n",
            "Epoch 81/100\n",
            "580/580 [==============================] - 6s 10ms/step - loss: 0.9033 - acc: 0.6431 - val_loss: 0.9091 - val_acc: 0.6508\n",
            "Epoch 82/100\n",
            "580/580 [==============================] - 6s 10ms/step - loss: 0.9117 - acc: 0.6431 - val_loss: 0.9193 - val_acc: 0.6508\n",
            "Epoch 83/100\n",
            "580/580 [==============================] - 6s 10ms/step - loss: 0.9166 - acc: 0.6431 - val_loss: 0.8963 - val_acc: 0.6508\n",
            "Epoch 84/100\n",
            "580/580 [==============================] - 6s 10ms/step - loss: 0.9146 - acc: 0.6431 - val_loss: 0.8983 - val_acc: 0.6508\n",
            "Epoch 85/100\n",
            "580/580 [==============================] - 6s 10ms/step - loss: 0.9063 - acc: 0.6431 - val_loss: 0.9149 - val_acc: 0.6508\n",
            "Epoch 86/100\n",
            "580/580 [==============================] - 6s 10ms/step - loss: 0.9096 - acc: 0.6431 - val_loss: 0.8955 - val_acc: 0.6508\n",
            "Epoch 87/100\n",
            "580/580 [==============================] - 6s 10ms/step - loss: 0.9096 - acc: 0.6431 - val_loss: 0.9150 - val_acc: 0.6508\n",
            "Epoch 88/100\n",
            "580/580 [==============================] - 6s 10ms/step - loss: 0.9127 - acc: 0.6431 - val_loss: 0.9008 - val_acc: 0.6508\n",
            "Epoch 89/100\n",
            "580/580 [==============================] - 6s 10ms/step - loss: 0.9118 - acc: 0.6431 - val_loss: 0.8931 - val_acc: 0.6508\n",
            "Epoch 90/100\n",
            "580/580 [==============================] - 12s 21ms/step - loss: 0.9122 - acc: 0.6431 - val_loss: 0.9033 - val_acc: 0.6508\n",
            "Epoch 91/100\n",
            "580/580 [==============================] - 7s 11ms/step - loss: 0.9167 - acc: 0.6431 - val_loss: 0.8896 - val_acc: 0.6508\n",
            "Epoch 92/100\n",
            "580/580 [==============================] - 6s 10ms/step - loss: 0.9132 - acc: 0.6431 - val_loss: 0.8950 - val_acc: 0.6508\n",
            "Epoch 93/100\n",
            "580/580 [==============================] - 6s 10ms/step - loss: 0.9118 - acc: 0.6431 - val_loss: 0.8927 - val_acc: 0.6508\n",
            "Epoch 94/100\n",
            "580/580 [==============================] - 6s 10ms/step - loss: 0.9169 - acc: 0.6431 - val_loss: 0.8907 - val_acc: 0.6508\n",
            "Epoch 95/100\n",
            "580/580 [==============================] - 7s 12ms/step - loss: 0.9131 - acc: 0.6431 - val_loss: 0.8944 - val_acc: 0.6508\n",
            "Epoch 96/100\n",
            "580/580 [==============================] - 6s 10ms/step - loss: 0.9180 - acc: 0.6431 - val_loss: 0.8941 - val_acc: 0.6508\n",
            "Epoch 97/100\n",
            "580/580 [==============================] - 6s 10ms/step - loss: 0.9113 - acc: 0.6431 - val_loss: 0.8992 - val_acc: 0.6508\n",
            "Epoch 98/100\n",
            "580/580 [==============================] - 6s 11ms/step - loss: 0.9022 - acc: 0.6431 - val_loss: 0.8972 - val_acc: 0.6508\n",
            "Epoch 99/100\n",
            "580/580 [==============================] - 6s 10ms/step - loss: 0.9155 - acc: 0.6431 - val_loss: 0.9028 - val_acc: 0.6508\n",
            "Epoch 100/100\n",
            "580/580 [==============================] - 6s 10ms/step - loss: 0.9113 - acc: 0.6431 - val_loss: 0.8905 - val_acc: 0.6508\n"
          ]
        }
      ]
    },
    {
      "cell_type": "code",
      "source": [
        " plt.plot(history.history['acc'])\n",
        "plt.plot(history.history['val_acc'])\n",
        "plt.title('MODEL ACCURACY')\n",
        "plt.xlabel('epoch')\n",
        "plt.ylabel('accuracy')\n",
        "plt.legend(['Train','Validation'],loc='upper left')\n",
        "plt.show\n",
        "\n",
        "score = model.evaluate(x_test,y_test,verbose=0)\n",
        "print('Test loss:', score[0])\n",
        "print('Test accuracy:', score[1])"
      ],
      "metadata": {
        "colab": {
          "base_uri": "https://localhost:8080/",
          "height": 331
        },
        "id": "vgY0hg5OMZ2H",
        "outputId": "f7d8a3b0-0a43-4e64-dd13-69285bacee71"
      },
      "execution_count": 11,
      "outputs": [
        {
          "output_type": "stream",
          "name": "stdout",
          "text": [
            "Test loss: 0.8904635310173035\n",
            "Test accuracy: 0.6507936716079712\n"
          ]
        },
        {
          "output_type": "display_data",
          "data": {
            "text/plain": [
              "<Figure size 432x288 with 1 Axes>"
            ],
            "image/png": "[encoded data removed]"
          },
          "metadata": {
            "needs_background": "light"
          }
        }
      ]
    },
    {
      "cell_type": "code",
      "source": [
        "model.save('Breast_cancer.h5')"
      ],
      "metadata": {
        "id": "U8AOIkAUtkFH"
      },
      "execution_count": 12,
      "outputs": []
    },
    {
      "cell_type": "code",
      "source": [
        "img = load_img('/content/drive/MyDrive/data/test/normal_cases1005.png', target_size=(220, 220))\n",
        "img = img_to_array(img)\n",
        "img = img.reshape(1, 220, 220, 3)\n",
        "img = img.astype('float32')\n",
        "img = img / 255\n",
        "\n",
        "model = load_model('Breast_cancer.h5')\n",
        "plt.imshow(img.reshape(220,220,3), cmap='gray')\n",
        "\n",
        "result = model.predict(img.reshape(1,220,220,3))\n",
        "if np.argmax(result) == 0:\n",
        "   i = \"Begnign Case\"\n",
        "elif np.argmax(result) == 1:\n",
        "   i = \"Malignant Case\"\n",
        "elif np.argmax(result) == 2:\n",
        "   i = \"Normal Case\"\n",
        "print('Chẩn đoán: ', i)\n",
        "plt.show()\n",
        "\n",
        "y_pred = model.predict(img)\n",
        "a = y_pred.max()\n",
        "a = a*100\n",
        "print(\"Accuracy: \",a, '%')"
      ],
      "metadata": {
        "colab": {
          "base_uri": "https://localhost:8080/",
          "height": 305
        },
        "id": "pdxPCdVpAgJI",
        "outputId": "ba45c4bb-e037-4ce0-92b4-222a521e1fe8"
      },
      "execution_count": 25,
      "outputs": [
        {
          "output_type": "stream",
          "name": "stdout",
          "text": [
            "Chẩn đoán:  Normal Case\n"
          ]
        },
        {
          "output_type": "display_data",
          "data": {
            "text/plain": [
              "<Figure size 432x288 with 1 Axes>"
            ],
            "image/png": "[encoded data removed]"
          },
          "metadata": {
            "needs_background": "light"
          }
        },
        {
          "output_type": "stream",
          "name": "stdout",
          "text": [
            "Accuracy:  4.917041561652546e-16 %\n"
          ]
        }
      ]
    },
    {
      "cell_type": "code",
      "source": [
        "img2 = load_img('/content/drive/MyDrive/data/test/benign_cases5.png', target_size=(220, 220))\n",
        "img2 = img_to_array(img2)\n",
        "img2 = img2.reshape(1, 220, 220, 3)\n",
        "img2 = img2.astype('float32')\n",
        "img2 = img2 / 255\n",
        "\n",
        "model = load_model('Breast_cancer.h5')\n",
        "plt.imshow(img2.reshape(220,220,3), cmap='gray')\n",
        "\n",
        "result = model.predict(img.reshape(1,220,220,3))\n",
        "if np.argmax(result) == 0:\n",
        "   i = \"Begnign Case\"\n",
        "elif np.argmax(result) == 1:\n",
        "   i = \"Malignant Case\"\n",
        "elif np.argmax(result) == 2:\n",
        "   i = \"Normal Case\"\n",
        "print('Chẩn đoán: ', i)\n",
        "plt.show()\n",
        "\n",
        "y_pred = model.predict(img2)\n",
        "a = y_pred.max()\n",
        "a = a*100\n",
        "print(\"Accuracy: \",a, '%')"
      ],
      "metadata": {
        "colab": {
          "base_uri": "https://localhost:8080/",
          "height": 305
        },
        "id": "67Xk6p565luZ",
        "outputId": "93870f40-15f2-4846-a63b-f7b4cf5cfd79"
      },
      "execution_count": 26,
      "outputs": [
        {
          "output_type": "stream",
          "name": "stdout",
          "text": [
            "Chẩn đoán:  Normal Case\n"
          ]
        },
        {
          "output_type": "display_data",
          "data": {
            "text/plain": [
              "<Figure size 432x288 with 1 Axes>"
            ],
            "image/png": "[encoded data removed]"
          },
          "metadata": {
            "needs_background": "light"
          }
        },
        {
          "output_type": "stream",
          "name": "stdout",
          "text": [
            "Accuracy:  1.455014392662008e-12 %\n"
          ]
        }
      ]
    }
  ]
}