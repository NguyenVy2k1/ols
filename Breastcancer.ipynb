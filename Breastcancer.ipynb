{
  "nbformat": 4,
  "nbformat_minor": 0,
  "metadata": {
    "colab": {
      "name": "Breastcancer.ipynb",
      "provenance": [],
      "authorship_tag": "ABX9TyMJfRXrS68weecJTIZJZCQE",
      "include_colab_link": true
    },
    "kernelspec": {
      "name": "python3",
      "display_name": "Python 3"
    },
    "language_info": {
      "name": "python"
    },
    "accelerator": "GPU",
    "gpuClass": "standard"
  },
  "cells": [
    {
      "cell_type": "markdown",
      "metadata": {
        "id": "view-in-github",
        "colab_type": "text"
      },
      "source": [
        "<a href=\"https://colab.research.google.com/github/NguyenVy2k1/ols/blob/main/Breastcancer.ipynb\" target=\"_parent\"><img src=\"https://colab.research.google.com/assets/colab-badge.svg\" alt=\"Open In Colab\"/></a>"
      ]
    },
    {
      "cell_type": "markdown",
      "source": [
        "Khai báo biến, thư viện"
      ],
      "metadata": {
        "id": "HxHxgizcJNhg"
      }
    },
    {
      "cell_type": "code",
      "execution_count": 77,
      "metadata": {
        "id": "DhI9BU6SJF9b"
      },
      "outputs": [],
      "source": [
        "import matplotlib.pyplot          as plt\n",
        "import numpy                      as np\n",
        "import matplotlib.pyplot          as plt\n",
        "import numpy                      as np\n",
        "from keras.preprocessing.image    import load_img\n",
        "from keras.preprocessing.image    import img_to_array\n",
        "from keras.models                 import load_model\n",
        "from keras.utils                  import np_utils\n",
        "from keras.models                 import Sequential\n",
        "from keras.layers                 import Dense, Activation, BatchNormalization, Dropout, LSTM\n",
        "from keras.layers                 import Conv2D\n",
        "from keras.layers                 import MaxPooling2D\n",
        "from keras.layers                 import Flatten\n",
        "from keras.callbacks              import EarlyStopping \n",
        "from tensorflow.keras.optimizers  import SGD"
      ]
    },
    {
      "cell_type": "markdown",
      "source": [
        "Kết nối Google Drive"
      ],
      "metadata": {
        "id": "NyNDjM-XJkyc"
      }
    },
    {
      "cell_type": "code",
      "source": [
        "from google.colab import drive\n",
        "drive.mount('/content/drive')"
      ],
      "metadata": {
        "colab": {
          "base_uri": "https://localhost:8080/"
        },
        "id": "11huE28fJYZf",
        "outputId": "2c4f3d1e-8b7d-4828-ffdf-4bedab6648a3"
      },
      "execution_count": 2,
      "outputs": [
        {
          "output_type": "stream",
          "name": "stdout",
          "text": [
            "Mounted at /content/drive\n"
          ]
        }
      ]
    },
    {
      "cell_type": "code",
      "source": [
        "x_train = np.zeros((637,200,200,3))\n",
        "x_test = np.zeros((63,200,200,3))"
      ],
      "metadata": {
        "id": "qPkyF63kJZNz"
      },
      "execution_count": 42,
      "outputs": []
    },
    {
      "cell_type": "markdown",
      "source": [
        "Gán giá trị cho y_train, y_test"
      ],
      "metadata": {
        "id": "Ziw2elUJJkJI"
      }
    },
    {
      "cell_type": "code",
      "source": [
        "y_train = [0,0,0,0,0,0,0,0,0,0,0,0,0,0,0,0,0,0,0,0,\n",
        "           0,0,0,0,0,0,0,0,0,0,0,0,0,0,0,0,0,0,0,0,\n",
        "           0,0,0,0,0,0,0,0,0,0,0,0,0,0,0,0,0,0,0,0,\n",
        "           0,0,0,0,0,0,0,0,0,0,0,0,0,0,0,0,0,0,0,0,\n",
        "           0,0,0,0,0,0,0,0,0,0,0,0,0,0,0,0,0,0,0,0,\n",
        "           0,0,0,0,0,0,0,0,0,0,0,0,0,0,0,0,0,0,0,0,\n",
        "           0,0,0,0,0,0,\n",
        "\n",
        "           1,1,1,1,1,1,1,1,1,1,1,1,1,1,1,1,1,1,1,1,\n",
        "           1,1,1,1,1,1,1,1,1,1,1,1,1,1,1,1,1,1,1,1,\n",
        "           1,1,1,1,1,1,1,1,1,1,1,1,1,1,1,1,1,1,1,1,\n",
        "           1,1,1,1,1,1,1,1,1,1,1,1,1,1,1,1,1,1,1,1,\n",
        "           1,1,1,1,1,1,1,1,1,1,1,1,1,1,1,1,1,1,1,1,\n",
        "           1,1,\n",
        "\n",
        "           2,2,2,2,2,2,2,2,2,2,2,2,2,2,2,2,2,2,2,2,\n",
        "           2,2,2,2,2,2,2,2,2,2,2,2,2,2,2,2,2,2,2,2,\n",
        "           2,2,2,2,2,2,2,2,2,2,2,2,2,2,2,2,2,2,2,2,\n",
        "           2,2,2,2,2,2,2,2,2,2,2,2,2,2,2,2,2,2,2,2,\n",
        "           2,2,2,2,2,2,2,2,2,2,2,2,2,2,2,2,2,2,2,2,\n",
        "           2,2,2,2,2,2,2,2,2,2,2,2,2,2,2,2,2,2,2,2,\n",
        "           2,2,2,2,2,2,2,2,2,2,2,2,2,2,2,2,2,2,2,2,\n",
        "           2,2,2,2,2,2,2,2,2,2,2,2,2,2,2,2,2,2,2,2,\n",
        "           2,2,2,2,2,2,2,2,2,2,2,2,2,2,2,2,2,2,2,2,\n",
        "           2,2,2,2,2,2,2,2,2,2,2,2,2,2,2,2,2,2,2,2,\n",
        "           2,2,2,2,2,2,2,2,2,2,2,2,2,2,2,2,2,2,2,2,\n",
        "           2,2,2,2,2,2,2,2,2,2,2,2,2,2,2,2,2,2,2,2,\n",
        "           2,2,2,2,2,2,2,2,2,2,2,2,2,2,2,2,2,2,2,2,\n",
        "           2,2,2,2,2,2,2,2,2,2,2,2,2,2,2,2,2,2,2,2,\n",
        "           2,2,2,2,2,2,2,2,2,2,2,2,2,2,2,2,2,2,2,2,\n",
        "           2,2,2,2,2,2,2,2,2,2,2,2,2,2,2,2,2,2,2,2,\n",
        "           2,2,2,2,2,2,2,2,2,2,2,2,2,2,2,2,2,2,2,2,\n",
        "           2,2,2,2,2,2,2,2,2,2,2,2,2,2,2,2,2,2,2,2,\n",
        "           2,2,2,2,2,2,2,2,2,2,2,2,2,2,2,2,2,2,2,2,\n",
        "           2,2,2,2,2,2,2,2,2,2,2,2,2,2,2,2,2,2,2,2,\n",
        "           2,2,2,2,2,2]\n",
        "\n",
        "y_test = [0,0,0,0,0,0,0,0,0,0,0,\n",
        "          1,1,1,1,1,1,1,1,1,1,1,\n",
        "          2,2,2,2,2,2,2,2,2,2,\n",
        "          2,2,2,2,2,2,2,2,2,2,\n",
        "          2,2,2,2,2,2,2,2,2,2,\n",
        "          2,2,2,2,2,2,2,2,2,2,2]"
      ],
      "metadata": {
        "id": "kOErx20UJc-p"
      },
      "execution_count": 43,
      "outputs": []
    },
    {
      "cell_type": "markdown",
      "source": [
        "Load ảnh"
      ],
      "metadata": {
        "id": "d4X1Ih4SJizt"
      }
    },
    {
      "cell_type": "code",
      "source": [
        "for i in range(125):\n",
        "  x_train[i] = load_img('/content/drive/MyDrive/data/train/benign'+ \n",
        "                        str(i+1) +'.png', target_size=(200,200))\n",
        "  x_train[i] = img_to_array(x_train[i]) \n",
        "  \n",
        "for i in range(125,207):\n",
        "  x_train[i] = load_img('/content/drive/MyDrive/data/train/malignant'+ \n",
        "                        str(i+1-126) +'.png', target_size=(200,200))\n",
        "  x_train[i] = img_to_array(x_train[i])  \n",
        "\n",
        "for i in range(207,616):\n",
        "  x_train[i] = load_img('/content/drive/MyDrive/data/train/norma'+ \n",
        "                        str(i+1-208) +'.png', target_size=(200,200))\n",
        "  x_train[i] = img_to_array(x_train[i]) \n"
      ],
      "metadata": {
        "id": "su6aMf0AJhzx"
      },
      "execution_count": 45,
      "outputs": []
    },
    {
      "cell_type": "code",
      "source": [
        "for i in range(10) :\n",
        "  x_test[i] = load_img('/content/drive/MyDrive/data/test/benign'+ \n",
        "                       str(i+1) +'.png', target_size=(200,200))\n",
        "  x_test[i] = img_to_array(x_test[i]) \n",
        "\n",
        "for i in range(10,21) :\n",
        "  x_test[i] = load_img('/content/drive/MyDrive/data/test/malignant'+ \n",
        "                       str(i+1-11) +'.png', target_size=(200,200))\n",
        "  x_test[i] = img_to_array(x_test[i]) \n",
        "\n",
        "for i in range(21,62):\n",
        "  x_test[i] = load_img('/content/drive/MyDrive/data/test/norma'+ \n",
        "                       str(i+1+978) +'.png', target_size=(200,200))\n",
        "  x_test[i] = img_to_array(x_test[i]) "
      ],
      "metadata": {
        "id": "FU-6H4gVJpx4"
      },
      "execution_count": 46,
      "outputs": []
    },
    {
      "cell_type": "code",
      "source": [
        "x_train = x_train.reshape(637, 200, 200,3)\n",
        "x_test  = x_test.reshape(62, 200, 200,3)\n",
        "x_train = x_train.astype('float32')\n",
        "x_test  = x_test.astype('float32')\n",
        "\n",
        "x_train/=255\n",
        "x_test/=255\n",
        "\n",
        "y_train = np_utils.to_categorical(y_train,3)\n",
        "y_test  = np_utils.to_categorical(y_test,3)"
      ],
      "metadata": {
        "id": "CsQupFoqJq6u"
      },
      "execution_count": 48,
      "outputs": []
    },
    {
      "cell_type": "markdown",
      "source": [
        "Xây dựng Model"
      ],
      "metadata": {
        "id": "mKWvLZR3JsIt"
      }
    },
    {
      "cell_type": "code",
      "source": [
        "model = Sequential()\n",
        "\n",
        "model.add(Conv2D(16, (3, 3), activation='relu', \n",
        "                 kernel_initializer='he_uniform', \n",
        "                 padding='same', input_shape=(200, 200, 3)))\n",
        "model.add(BatchNormalization())\n",
        "model.add(Conv2D(16, (3, 3), activation='relu', \n",
        "                 kernel_initializer='he_uniform', \n",
        "                 padding='same'))\n",
        "model.add(BatchNormalization())\n",
        "model.add(MaxPooling2D((2, 2)))\n",
        "model.add(Dropout(0.2))\n",
        "\n",
        "model.add(Conv2D(32, (3, 3), activation='relu', \n",
        "                 kernel_initializer='he_uniform', \n",
        "                 padding='same'))\n",
        "model.add(BatchNormalization())\n",
        "model.add(Conv2D(32, (3, 3), activation='relu', \n",
        "                 kernel_initializer='he_uniform', \n",
        "                 padding='same'))\n",
        "model.add(BatchNormalization())\t\n",
        "model.add(MaxPooling2D((2, 2)))\n",
        "model.add(Dropout(0.2))\n",
        "\n"
        "model.add(Conv2D(64, (3, 3), activation='relu', \n",
        "                 kernel_initializer='he_uniform', \n",
        "                 padding='same'))\n",
        "model.add(BatchNormalization())\n",
        "model.add(Conv2D(64, (3, 3), activation='relu', \n",
        "                 kernel_initializer='he_uniform', \n",
        "                 padding='same'))\n",
        "model.add(BatchNormalization())\t\n",
        "model.add(MaxPooling2D((2, 2)))\n",
        "model.add(Dropout(0.2))\n",
        "\n",
        "model.add(Conv2D(128, (3, 3), activation='relu', \n",
        "                 kernel_initializer='he_uniform', \n",
        "                 padding='same'))\n",
        "model.add(BatchNormalization())\n",
        "model.add(Conv2D(128, (3, 3), activation='relu', \n",
        "                 kernel_initializer='he_uniform',\n",
        "                 padding='same'))\n",
        "model.add(BatchNormalization())\t\n",
        "model.add(MaxPooling2D((2, 2)))\n",
        "model.add(Dropout(0.2))\n",
        "\n",
        "model.add(Flatten())\n",
        "model.add(Dense(128, activation='relu', \n",
        "                kernel_initializer='he_uniform'))\n",
        "model.add(BatchNormalization())\n",
        "model.add(Dropout(0.2))\t\n",
        "model.add(Dense(3, activation='sigmoid'))\n",
        "model.summary()"
      ],
      "metadata": {
        "colab": {
          "base_uri": "https://localhost:8080/"
        },
        "id": "bn3xx_jfX0KB",
        "outputId": "386c6361-f09d-421c-9ac8-ea6166ed58ca"
      },
      "execution_count": 51,
      "outputs": [
        {
          "output_type": "stream",
          "name": "stdout",
          "text": [
            "Model: \"sequential_11\"\n",
            "_________________________________________________________________\n",
            " Layer (type)                Output Shape              Param #   \n",
            "=================================================================\n",
            " conv2d_82 (Conv2D)          (None, 200, 200, 32)      896       \n",
            "                                                                 \n",
            " batch_normalization_93 (Bat  (None, 200, 200, 32)     128       \n",
            " chNormalization)                                                \n",
            "                                                                 \n",
            " conv2d_83 (Conv2D)          (None, 200, 200, 32)      9248      \n",
            "                                                                 \n",
            " batch_normalization_94 (Bat  (None, 200, 200, 32)     128       \n",
            " chNormalization)                                                \n",
            "                                                                 \n",
            " max_pooling2d_41 (MaxPoolin  (None, 100, 100, 32)     0         \n",
            " g2D)                                                            \n",
            "                                                                 \n",
            " dropout_52 (Dropout)        (None, 100, 100, 32)      0         \n",
            "                                                                 \n",
            " conv2d_84 (Conv2D)          (None, 100, 100, 64)      18496     \n",
            "                                                                 \n",
            " batch_normalization_95 (Bat  (None, 100, 100, 64)     256       \n",
            " chNormalization)                                                \n",
            "                                                                 \n",
            " conv2d_85 (Conv2D)          (None, 100, 100, 64)      36928     \n",
            "                                                                 \n",
            " batch_normalization_96 (Bat  (None, 100, 100, 64)     256       \n",
            " chNormalization)                                                \n",
            "                                                                 \n",
            " max_pooling2d_42 (MaxPoolin  (None, 50, 50, 64)       0         \n",
            " g2D)                                                            \n",
            "                                                                 \n",
            " dropout_53 (Dropout)        (None, 50, 50, 64)        0         \n",
            "                                                                 \n",
            " conv2d_86 (Conv2D)          (None, 50, 50, 128)       73856     \n",
            "                                                                 \n",
            " batch_normalization_97 (Bat  (None, 50, 50, 128)      512       \n",
            " chNormalization)                                                \n",
            "                                                                 \n",
            " conv2d_87 (Conv2D)          (None, 50, 50, 128)       147584    \n",
            "                                                                 \n",
            " batch_normalization_98 (Bat  (None, 50, 50, 128)      512       \n",
            " chNormalization)                                                \n",
            "                                                                 \n",
            " max_pooling2d_43 (MaxPoolin  (None, 25, 25, 128)      0         \n",
            " g2D)                                                            \n",
            "                                                                 \n",
            " dropout_54 (Dropout)        (None, 25, 25, 128)       0         \n",
            "                                                                 \n",
            " flatten_11 (Flatten)        (None, 80000)             0         \n",
            "                                                                 \n",
            " dense_21 (Dense)            (None, 128)               10240128  \n",
            "                                                                 \n",
            " batch_normalization_99 (Bat  (None, 128)              512       \n",
            " chNormalization)                                                \n",
            "                                                                 \n",
            " dropout_55 (Dropout)        (None, 128)               0         \n",
            "                                                                 \n",
            " dense_22 (Dense)            (None, 3)                 387       \n",
            "                                                                 \n",
            "=================================================================\n",
            "Total params: 10,529,827\n",
            "Trainable params: 10,528,675\n",
            "Non-trainable params: 1,152\n",
            "_________________________________________________________________\n"
          ]
        }
      ]
    },
    {
      "cell_type": "markdown",
      "source": [
        ""
      ],
      "metadata": {
        "id": "I7xV_gW2Jw75"
      }
    },
    {
      "cell_type": "code",
      "source": [
        "opt=SGD(learning_rate=0.01,momentum=0.9)\n",
        "model.compile(loss='categorical_crossentropy',optimizer=opt, metrics=['acc'])\n",
        "history = model.fit(x_train,y_train,epochs=200,batch_size=32,validation_data=(x_test,y_test),verbose=1)"
      ],
      "metadata": {
        "colab": {
          "base_uri": "https://localhost:8080/"
        },
        "id": "HF1KCYu9J0pi",
        "outputId": "522bd22f-d0c4-4bec-d993-b7e039654928"
      },
      "execution_count": 63,
      "outputs": [
        {
          "output_type": "stream",
          "name": "stdout",
          "text": [
            "Epoch 1/200\n",
            "21/21 [==============================] - 4s 142ms/step - loss: 0.5257 - acc: 0.7928 - val_loss: 0.5654 - val_acc: 0.7937\n",
            "Epoch 2/200\n",
            "21/21 [==============================] - 3s 131ms/step - loss: 0.5402 - acc: 0.7773 - val_loss: 0.5906 - val_acc: 0.8095\n",
            "Epoch 3/200\n",
            "21/21 [==============================] - 3s 131ms/step - loss: 0.4897 - acc: 0.7991 - val_loss: 0.5810 - val_acc: 0.6984\n",
            "Epoch 4/200\n",
            "21/21 [==============================] - 3s 132ms/step - loss: 0.5091 - acc: 0.7960 - val_loss: 0.5792 - val_acc: 0.7937\n",
            "Epoch 5/200\n",
            "21/21 [==============================] - 3s 132ms/step - loss: 0.5285 - acc: 0.7570 - val_loss: 29.6297 - val_acc: 0.2698\n",
            "Epoch 6/200\n",
            "21/21 [==============================] - 3s 132ms/step - loss: 0.4834 - acc: 0.7913 - val_loss: 0.8093 - val_acc: 0.7460\n",
            "Epoch 7/200\n",
            "21/21 [==============================] - 3s 133ms/step - loss: 0.4758 - acc: 0.8069 - val_loss: 0.7027 - val_acc: 0.7778\n",
            "Epoch 8/200\n",
            "21/21 [==============================] - 3s 133ms/step - loss: 0.4776 - acc: 0.7944 - val_loss: 0.6929 - val_acc: 0.7460\n",
            "Epoch 9/200\n",
            "21/21 [==============================] - 3s 134ms/step - loss: 0.4684 - acc: 0.7991 - val_loss: 0.4924 - val_acc: 0.7778\n",
            "Epoch 10/200\n",
            "21/21 [==============================] - 3s 138ms/step - loss: 0.4758 - acc: 0.8006 - val_loss: 0.5925 - val_acc: 0.8571\n",
            "Epoch 11/200\n",
            "21/21 [==============================] - 3s 132ms/step - loss: 0.4244 - acc: 0.8333 - val_loss: 0.4377 - val_acc: 0.8254\n",
            "Epoch 12/200\n",
            "21/21 [==============================] - 3s 132ms/step - loss: 0.4690 - acc: 0.7975 - val_loss: 0.4993 - val_acc: 0.8254\n",
            "Epoch 13/200\n",
            "21/21 [==============================] - 3s 133ms/step - loss: 0.4595 - acc: 0.8224 - val_loss: 0.9087 - val_acc: 0.6508\n",
            "Epoch 14/200\n",
            "21/21 [==============================] - 3s 133ms/step - loss: 0.4245 - acc: 0.8287 - val_loss: 0.8664 - val_acc: 0.7143\n",
            "Epoch 15/200\n",
            "21/21 [==============================] - 3s 133ms/step - loss: 0.4061 - acc: 0.8302 - val_loss: 0.5905 - val_acc: 0.7937\n",
            "Epoch 16/200\n",
            "21/21 [==============================] - 3s 132ms/step - loss: 0.4324 - acc: 0.8333 - val_loss: 1.3419 - val_acc: 0.6984\n",
            "Epoch 17/200\n",
            "21/21 [==============================] - 3s 132ms/step - loss: 0.4709 - acc: 0.7850 - val_loss: 1.0798 - val_acc: 0.6508\n",
            "Epoch 18/200\n",
            "21/21 [==============================] - 3s 133ms/step - loss: 0.4927 - acc: 0.7835 - val_loss: 0.6757 - val_acc: 0.7619\n",
            "Epoch 19/200\n",
            "21/21 [==============================] - 3s 136ms/step - loss: 0.4873 - acc: 0.7835 - val_loss: 0.4672 - val_acc: 0.8254\n",
            "Epoch 20/200\n",
            "21/21 [==============================] - 3s 139ms/step - loss: 0.4497 - acc: 0.8006 - val_loss: 0.6239 - val_acc: 0.7937\n",
            "Epoch 21/200\n",
            "21/21 [==============================] - 3s 133ms/step - loss: 0.4459 - acc: 0.8224 - val_loss: 0.3353 - val_acc: 0.9206\n",
            "Epoch 22/200\n",
            "21/21 [==============================] - 3s 133ms/step - loss: 0.4637 - acc: 0.8084 - val_loss: 0.4327 - val_acc: 0.8889\n",
            "Epoch 23/200\n",
            "21/21 [==============================] - 3s 131ms/step - loss: 0.4207 - acc: 0.8271 - val_loss: 0.3653 - val_acc: 0.8730\n",
            "Epoch 24/200\n",
            "21/21 [==============================] - 3s 132ms/step - loss: 0.4501 - acc: 0.8193 - val_loss: 0.3422 - val_acc: 0.8889\n",
            "Epoch 25/200\n",
            "21/21 [==============================] - 3s 132ms/step - loss: 0.4498 - acc: 0.8006 - val_loss: 0.5826 - val_acc: 0.7619\n",
            "Epoch 26/200\n",
            "21/21 [==============================] - 3s 135ms/step - loss: 0.4609 - acc: 0.7975 - val_loss: 0.3508 - val_acc: 0.8730\n",
            "Epoch 27/200\n",
            "21/21 [==============================] - 3s 132ms/step - loss: 0.4067 - acc: 0.8255 - val_loss: 0.2792 - val_acc: 0.9206\n",
            "Epoch 28/200\n",
            "21/21 [==============================] - 3s 132ms/step - loss: 0.4193 - acc: 0.8131 - val_loss: 0.2610 - val_acc: 0.8889\n",
            "Epoch 29/200\n",
            "21/21 [==============================] - 3s 132ms/step - loss: 0.3614 - acc: 0.8458 - val_loss: 0.3054 - val_acc: 0.8571\n",
            "Epoch 30/200\n",
            "21/21 [==============================] - 3s 131ms/step - loss: 0.3714 - acc: 0.8427 - val_loss: 0.2730 - val_acc: 0.9048\n",
            "Epoch 31/200\n",
            "21/21 [==============================] - 3s 131ms/step - loss: 0.3768 - acc: 0.8364 - val_loss: 0.3190 - val_acc: 0.8571\n",
            "Epoch 32/200\n",
            "21/21 [==============================] - 3s 132ms/step - loss: 0.3705 - acc: 0.8551 - val_loss: 0.3507 - val_acc: 0.8571\n",
            "Epoch 33/200\n",
            "21/21 [==============================] - 3s 132ms/step - loss: 0.3429 - acc: 0.8583 - val_loss: 0.3583 - val_acc: 0.8730\n",
            "Epoch 34/200\n",
            "21/21 [==============================] - 3s 136ms/step - loss: 0.3323 - acc: 0.8536 - val_loss: 0.2545 - val_acc: 0.9206\n",
            "Epoch 35/200\n",
            "21/21 [==============================] - 3s 132ms/step - loss: 0.3165 - acc: 0.8707 - val_loss: 0.3229 - val_acc: 0.8730\n",
            "Epoch 36/200\n",
            "21/21 [==============================] - 3s 132ms/step - loss: 0.3449 - acc: 0.8505 - val_loss: 0.3453 - val_acc: 0.8730\n",
            "Epoch 37/200\n",
            "21/21 [==============================] - 3s 137ms/step - loss: 0.3649 - acc: 0.8474 - val_loss: 0.3348 - val_acc: 0.8413\n",
            "Epoch 38/200\n",
            "21/21 [==============================] - 3s 132ms/step - loss: 0.3596 - acc: 0.8349 - val_loss: 0.2768 - val_acc: 0.8889\n",
            "Epoch 39/200\n",
            "21/21 [==============================] - 3s 131ms/step - loss: 0.3020 - acc: 0.8910 - val_loss: 90.9399 - val_acc: 0.6190\n",
            "Epoch 40/200\n",
            "21/21 [==============================] - 3s 132ms/step - loss: 1.1177 - acc: 0.6449 - val_loss: 150847.8438 - val_acc: 0.6508\n",
            "Epoch 41/200\n",
            "21/21 [==============================] - 3s 132ms/step - loss: 0.9732 - acc: 0.6199 - val_loss: 97033.9688 - val_acc: 0.6825\n",
            "Epoch 42/200\n",
            "21/21 [==============================] - 3s 133ms/step - loss: 0.8523 - acc: 0.6511 - val_loss: 56066.3242 - val_acc: 0.6825\n",
            "Epoch 43/200\n",
            "21/21 [==============================] - 3s 136ms/step - loss: 0.7926 - acc: 0.6682 - val_loss: 28402.4746 - val_acc: 0.6825\n",
            "Epoch 44/200\n",
            "21/21 [==============================] - 3s 132ms/step - loss: 0.7672 - acc: 0.6542 - val_loss: 10352.3076 - val_acc: 0.6667\n",
            "Epoch 45/200\n",
            "21/21 [==============================] - 3s 132ms/step - loss: 0.7376 - acc: 0.6713 - val_loss: 2333.8181 - val_acc: 0.6349\n",
            "Epoch 46/200\n",
            "21/21 [==============================] - 3s 132ms/step - loss: 0.6967 - acc: 0.6978 - val_loss: 242.6981 - val_acc: 0.2381\n",
            "Epoch 47/200\n",
            "21/21 [==============================] - 3s 132ms/step - loss: 0.6760 - acc: 0.7259 - val_loss: 79.8298 - val_acc: 0.3016\n",
            "Epoch 48/200\n",
            "21/21 [==============================] - 3s 132ms/step - loss: 0.6585 - acc: 0.7165 - val_loss: 34.6809 - val_acc: 0.6349\n",
            "Epoch 49/200\n",
            "21/21 [==============================] - 3s 132ms/step - loss: 0.6477 - acc: 0.7290 - val_loss: 0.5794 - val_acc: 0.7460\n",
            "Epoch 50/200\n",
            "21/21 [==============================] - 3s 132ms/step - loss: 0.6610 - acc: 0.7321 - val_loss: 0.6300 - val_acc: 0.7143\n",
            "Epoch 51/200\n",
            "21/21 [==============================] - 3s 132ms/step - loss: 0.6470 - acc: 0.7321 - val_loss: 0.6099 - val_acc: 0.7302\n",
            "Epoch 52/200\n",
            "21/21 [==============================] - 3s 133ms/step - loss: 0.6617 - acc: 0.7118 - val_loss: 0.6277 - val_acc: 0.7778\n",
            "Epoch 53/200\n",
            "21/21 [==============================] - 3s 132ms/step - loss: 0.6383 - acc: 0.7383 - val_loss: 0.5651 - val_acc: 0.7778\n",
            "Epoch 54/200\n",
            "21/21 [==============================] - 3s 131ms/step - loss: 0.5940 - acc: 0.7321 - val_loss: 0.6149 - val_acc: 0.7778\n",
            "Epoch 55/200\n",
            "21/21 [==============================] - 3s 131ms/step - loss: 0.6204 - acc: 0.7383 - val_loss: 0.5317 - val_acc: 0.8254\n",
            "Epoch 56/200\n",
            "21/21 [==============================] - 3s 133ms/step - loss: 0.5900 - acc: 0.7477 - val_loss: 0.5887 - val_acc: 0.7937\n",
            "Epoch 57/200\n",
            "21/21 [==============================] - 3s 132ms/step - loss: 0.5869 - acc: 0.7305 - val_loss: 0.6091 - val_acc: 0.7143\n",
            "Epoch 58/200\n",
            "21/21 [==============================] - 3s 131ms/step - loss: 0.5538 - acc: 0.7477 - val_loss: 0.5694 - val_acc: 0.7778\n",
            "Epoch 59/200\n",
            "21/21 [==============================] - 3s 132ms/step - loss: 0.5770 - acc: 0.7399 - val_loss: 0.5882 - val_acc: 0.7460\n",
            "Epoch 60/200\n",
            "21/21 [==============================] - 3s 132ms/step - loss: 0.5525 - acc: 0.7601 - val_loss: 0.5793 - val_acc: 0.7937\n",
            "Epoch 61/200\n",
            "21/21 [==============================] - 3s 132ms/step - loss: 0.5217 - acc: 0.7944 - val_loss: 0.6848 - val_acc: 0.6825\n",
            "Epoch 62/200\n",
            "21/21 [==============================] - 3s 132ms/step - loss: 0.5002 - acc: 0.7804 - val_loss: 0.7139 - val_acc: 0.6825\n",
            "Epoch 63/200\n",
            "21/21 [==============================] - 3s 132ms/step - loss: 0.5026 - acc: 0.7710 - val_loss: 0.6219 - val_acc: 0.7302\n",
            "Epoch 64/200\n",
            "21/21 [==============================] - 3s 133ms/step - loss: 0.5350 - acc: 0.7586 - val_loss: 0.6418 - val_acc: 0.7302\n",
            "Epoch 65/200\n",
            "21/21 [==============================] - 3s 132ms/step - loss: 0.4848 - acc: 0.8100 - val_loss: 6.3702 - val_acc: 0.6508\n",
            "Epoch 66/200\n",
            "21/21 [==============================] - 3s 132ms/step - loss: 0.6377 - acc: 0.7259 - val_loss: 379.9507 - val_acc: 0.6508\n",
            "Epoch 67/200\n",
            "21/21 [==============================] - 3s 132ms/step - loss: 0.6001 - acc: 0.7368 - val_loss: 78.6324 - val_acc: 0.6508\n",
            "Epoch 68/200\n",
            "21/21 [==============================] - 3s 133ms/step - loss: 0.5869 - acc: 0.7539 - val_loss: 2.7684 - val_acc: 0.6825\n",
            "Epoch 69/200\n",
            "21/21 [==============================] - 3s 132ms/step - loss: 0.5918 - acc: 0.7492 - val_loss: 1.4349 - val_acc: 0.6825\n",
            "Epoch 70/200\n",
            "21/21 [==============================] - 3s 132ms/step - loss: 0.5818 - acc: 0.7617 - val_loss: 0.5746 - val_acc: 0.7143\n",
            "Epoch 71/200\n",
            "21/21 [==============================] - 3s 136ms/step - loss: 0.5707 - acc: 0.7539 - val_loss: 0.5522 - val_acc: 0.7778\n",
            "Epoch 72/200\n",
            "21/21 [==============================] - 3s 131ms/step - loss: 0.5875 - acc: 0.7555 - val_loss: 0.5603 - val_acc: 0.7619\n",
            "Epoch 73/200\n",
            "21/21 [==============================] - 3s 132ms/step - loss: 0.6173 - acc: 0.7445 - val_loss: 2.4060 - val_acc: 0.2698\n",
            "Epoch 74/200\n",
            "21/21 [==============================] - 3s 132ms/step - loss: 0.6061 - acc: 0.7352 - val_loss: 0.9257 - val_acc: 0.5556\n",
            "Epoch 75/200\n",
            "21/21 [==============================] - 3s 132ms/step - loss: 0.6268 - acc: 0.7103 - val_loss: 0.6587 - val_acc: 0.6984\n",
            "Epoch 76/200\n",
            "21/21 [==============================] - 3s 132ms/step - loss: 0.5719 - acc: 0.7523 - val_loss: 0.5531 - val_acc: 0.7143\n",
            "Epoch 77/200\n",
            "21/21 [==============================] - 3s 132ms/step - loss: 0.5486 - acc: 0.7601 - val_loss: 0.6102 - val_acc: 0.7143\n",
            "Epoch 78/200\n",
            "21/21 [==============================] - 3s 132ms/step - loss: 0.5709 - acc: 0.7741 - val_loss: 0.6559 - val_acc: 0.6825\n",
            "Epoch 79/200\n",
            "21/21 [==============================] - 3s 132ms/step - loss: 0.5019 - acc: 0.7804 - val_loss: 0.5684 - val_acc: 0.7460\n",
            "Epoch 80/200\n",
            "21/21 [==============================] - 3s 131ms/step - loss: 0.5357 - acc: 0.7632 - val_loss: 0.6432 - val_acc: 0.7460\n",
            "Epoch 81/200\n",
            "21/21 [==============================] - 3s 132ms/step - loss: 0.5321 - acc: 0.7632 - val_loss: 0.5687 - val_acc: 0.7619\n",
            "Epoch 82/200\n",
            "21/21 [==============================] - 3s 132ms/step - loss: 0.5253 - acc: 0.7866 - val_loss: 0.5737 - val_acc: 0.7619\n",
            "Epoch 83/200\n",
            "21/21 [==============================] - 3s 132ms/step - loss: 0.5499 - acc: 0.7773 - val_loss: 0.4373 - val_acc: 0.8730\n",
            "Epoch 84/200\n",
            "21/21 [==============================] - 3s 132ms/step - loss: 0.5245 - acc: 0.7757 - val_loss: 0.5146 - val_acc: 0.8254\n",
            "Epoch 85/200\n",
            "21/21 [==============================] - 3s 132ms/step - loss: 0.5022 - acc: 0.7804 - val_loss: 0.4278 - val_acc: 0.8254\n",
            "Epoch 86/200\n",
            "21/21 [==============================] - 3s 131ms/step - loss: 0.5107 - acc: 0.7804 - val_loss: 0.4254 - val_acc: 0.8413\n",
            "Epoch 87/200\n",
            "21/21 [==============================] - 3s 132ms/step - loss: 0.5364 - acc: 0.7679 - val_loss: 0.6512 - val_acc: 0.6984\n",
            "Epoch 88/200\n",
            "21/21 [==============================] - 3s 131ms/step - loss: 0.4793 - acc: 0.8037 - val_loss: 0.4598 - val_acc: 0.8095\n",
            "Epoch 89/200\n",
            "21/21 [==============================] - 3s 131ms/step - loss: 0.4834 - acc: 0.7897 - val_loss: 0.4742 - val_acc: 0.7302\n",
            "Epoch 90/200\n",
            "21/21 [==============================] - 3s 132ms/step - loss: 0.5202 - acc: 0.7648 - val_loss: 0.4524 - val_acc: 0.8254\n",
            "Epoch 91/200\n",
            "21/21 [==============================] - 3s 132ms/step - loss: 0.4814 - acc: 0.7928 - val_loss: 0.5440 - val_acc: 0.7937\n",
            "Epoch 92/200\n",
            "21/21 [==============================] - 3s 132ms/step - loss: 0.4420 - acc: 0.8178 - val_loss: 0.6362 - val_acc: 0.6825\n",
            "Epoch 93/200\n",
            "21/21 [==============================] - 3s 132ms/step - loss: 0.4708 - acc: 0.7928 - val_loss: 0.7610 - val_acc: 0.6508\n",
            "Epoch 94/200\n",
            "21/21 [==============================] - 3s 132ms/step - loss: 0.4817 - acc: 0.8022 - val_loss: 0.4631 - val_acc: 0.8095\n",
            "Epoch 95/200\n",
            "21/21 [==============================] - 3s 132ms/step - loss: 0.4457 - acc: 0.8209 - val_loss: 0.7702 - val_acc: 0.6667\n",
            "Epoch 96/200\n",
            "21/21 [==============================] - 3s 131ms/step - loss: 0.4574 - acc: 0.8037 - val_loss: 0.5271 - val_acc: 0.7302\n",
            "Epoch 97/200\n",
            "21/21 [==============================] - 3s 132ms/step - loss: 0.4433 - acc: 0.8146 - val_loss: 0.5778 - val_acc: 0.7619\n",
            "Epoch 98/200\n",
            "21/21 [==============================] - 3s 132ms/step - loss: 0.4748 - acc: 0.7928 - val_loss: 0.5148 - val_acc: 0.7937\n",
            "Epoch 99/200\n",
            "21/21 [==============================] - 3s 132ms/step - loss: 0.4402 - acc: 0.8193 - val_loss: 0.6001 - val_acc: 0.7302\n",
            "Epoch 100/200\n",
            "21/21 [==============================] - 3s 131ms/step - loss: 0.4436 - acc: 0.8084 - val_loss: 0.5509 - val_acc: 0.7619\n",
            "Epoch 101/200\n",
            "21/21 [==============================] - 3s 132ms/step - loss: 0.4561 - acc: 0.8131 - val_loss: 0.4854 - val_acc: 0.8095\n",
            "Epoch 102/200\n",
            "21/21 [==============================] - 3s 132ms/step - loss: 0.4714 - acc: 0.7882 - val_loss: 0.4596 - val_acc: 0.8413\n",
            "Epoch 103/200\n",
            "21/21 [==============================] - 3s 131ms/step - loss: 0.4691 - acc: 0.7991 - val_loss: 0.4457 - val_acc: 0.8413\n",
            "Epoch 104/200\n",
            "21/21 [==============================] - 3s 131ms/step - loss: 0.4592 - acc: 0.8178 - val_loss: 0.3655 - val_acc: 0.8730\n",
            "Epoch 105/200\n",
            "21/21 [==============================] - 3s 132ms/step - loss: 0.4360 - acc: 0.8100 - val_loss: 0.4526 - val_acc: 0.8254\n",
            "Epoch 106/200\n",
            "21/21 [==============================] - 3s 132ms/step - loss: 0.4019 - acc: 0.8474 - val_loss: 0.4128 - val_acc: 0.8254\n",
            "Epoch 107/200\n",
            "21/21 [==============================] - 3s 132ms/step - loss: 0.4552 - acc: 0.8006 - val_loss: 0.3932 - val_acc: 0.8889\n",
            "Epoch 108/200\n",
            "21/21 [==============================] - 3s 132ms/step - loss: 0.3958 - acc: 0.8178 - val_loss: 0.3845 - val_acc: 0.9206\n",
            "Epoch 109/200\n",
            "21/21 [==============================] - 3s 132ms/step - loss: 0.4284 - acc: 0.8100 - val_loss: 0.4959 - val_acc: 0.7619\n",
            "Epoch 110/200\n",
            "21/21 [==============================] - 3s 132ms/step - loss: 0.4349 - acc: 0.8209 - val_loss: 0.3457 - val_acc: 0.8571\n",
            "Epoch 111/200\n",
            "21/21 [==============================] - 3s 131ms/step - loss: 0.4078 - acc: 0.8333 - val_loss: 0.3324 - val_acc: 0.8889\n",
            "Epoch 112/200\n",
            "21/21 [==============================] - 3s 132ms/step - loss: 0.3744 - acc: 0.8333 - val_loss: 0.3649 - val_acc: 0.9206\n",
            "Epoch 113/200\n",
            "21/21 [==============================] - 3s 139ms/step - loss: 0.3893 - acc: 0.8302 - val_loss: 0.4140 - val_acc: 0.8571\n",
            "Epoch 114/200\n",
            "21/21 [==============================] - 3s 133ms/step - loss: 0.3912 - acc: 0.8380 - val_loss: 0.3491 - val_acc: 0.8571\n",
            "Epoch 115/200\n",
            "21/21 [==============================] - 3s 135ms/step - loss: 0.4018 - acc: 0.8318 - val_loss: 0.4528 - val_acc: 0.8571\n",
            "Epoch 116/200\n",
            "21/21 [==============================] - 3s 137ms/step - loss: 0.3951 - acc: 0.8255 - val_loss: 0.4278 - val_acc: 0.8254\n",
            "Epoch 117/200\n",
            "21/21 [==============================] - 3s 132ms/step - loss: 0.4040 - acc: 0.8115 - val_loss: 0.3605 - val_acc: 0.8730\n",
            "Epoch 118/200\n",
            "21/21 [==============================] - 3s 132ms/step - loss: 0.3917 - acc: 0.8193 - val_loss: 0.4072 - val_acc: 0.8571\n",
            "Epoch 119/200\n",
            "21/21 [==============================] - 3s 133ms/step - loss: 0.3782 - acc: 0.8396 - val_loss: 0.4148 - val_acc: 0.8095\n",
            "Epoch 120/200\n",
            "21/21 [==============================] - 3s 131ms/step - loss: 0.3781 - acc: 0.8271 - val_loss: 0.7696 - val_acc: 0.6984\n",
            "Epoch 121/200\n",
            "21/21 [==============================] - 3s 132ms/step - loss: 0.3369 - acc: 0.8754 - val_loss: 0.4148 - val_acc: 0.9048\n",
            "Epoch 122/200\n",
            "21/21 [==============================] - 3s 132ms/step - loss: 0.3473 - acc: 0.8629 - val_loss: 0.2957 - val_acc: 0.8889\n",
            "Epoch 123/200\n",
            "21/21 [==============================] - 3s 132ms/step - loss: 0.3947 - acc: 0.8380 - val_loss: 0.4367 - val_acc: 0.8889\n",
            "Epoch 124/200\n",
            "21/21 [==============================] - 3s 136ms/step - loss: 0.3820 - acc: 0.8333 - val_loss: 0.3986 - val_acc: 0.8889\n",
            "Epoch 125/200\n",
            "21/21 [==============================] - 3s 132ms/step - loss: 0.3621 - acc: 0.8474 - val_loss: 0.3915 - val_acc: 0.8571\n",
            "Epoch 126/200\n",
            "21/21 [==============================] - 3s 132ms/step - loss: 0.3544 - acc: 0.8520 - val_loss: 0.3389 - val_acc: 0.9048\n",
            "Epoch 127/200\n",
            "21/21 [==============================] - 3s 135ms/step - loss: 0.3001 - acc: 0.8723 - val_loss: 0.3929 - val_acc: 0.9206\n",
            "Epoch 128/200\n",
            "21/21 [==============================] - 3s 132ms/step - loss: 0.3365 - acc: 0.8583 - val_loss: 0.3384 - val_acc: 0.9365\n",
            "Epoch 129/200\n",
            "21/21 [==============================] - 3s 132ms/step - loss: 0.3459 - acc: 0.8396 - val_loss: 0.3721 - val_acc: 0.8889\n",
            "Epoch 130/200\n",
            "21/21 [==============================] - 3s 132ms/step - loss: 0.3582 - acc: 0.8458 - val_loss: 0.6158 - val_acc: 0.8095\n",
            "Epoch 131/200\n",
            "21/21 [==============================] - 3s 132ms/step - loss: 0.2939 - acc: 0.8769 - val_loss: 0.3506 - val_acc: 0.9048\n",
            "Epoch 132/200\n",
            "21/21 [==============================] - 3s 132ms/step - loss: 0.3542 - acc: 0.8411 - val_loss: 0.3673 - val_acc: 0.8730\n",
            "Epoch 133/200\n",
            "21/21 [==============================] - 3s 132ms/step - loss: 0.4116 - acc: 0.8193 - val_loss: 0.5728 - val_acc: 0.8095\n",
            "Epoch 134/200\n",
            "21/21 [==============================] - 3s 131ms/step - loss: 0.4541 - acc: 0.8115 - val_loss: 0.5227 - val_acc: 0.8571\n",
            "Epoch 135/200\n",
            "21/21 [==============================] - 3s 131ms/step - loss: 0.3730 - acc: 0.8271 - val_loss: 0.4433 - val_acc: 0.8254\n",
            "Epoch 136/200\n",
            "21/21 [==============================] - 3s 132ms/step - loss: 0.3895 - acc: 0.8333 - val_loss: 0.4958 - val_acc: 0.8254\n",
            "Epoch 137/200\n",
            "21/21 [==============================] - 3s 133ms/step - loss: 0.3779 - acc: 0.8629 - val_loss: 0.3357 - val_acc: 0.9048\n",
            "Epoch 138/200\n",
            "21/21 [==============================] - 3s 133ms/step - loss: 0.3967 - acc: 0.8474 - val_loss: 0.2985 - val_acc: 0.9048\n",
            "Epoch 139/200\n",
            "21/21 [==============================] - 3s 132ms/step - loss: 0.3802 - acc: 0.8411 - val_loss: 0.3264 - val_acc: 0.8730\n",
            "Epoch 140/200\n",
            "21/21 [==============================] - 3s 131ms/step - loss: 0.3741 - acc: 0.8333 - val_loss: 0.3296 - val_acc: 0.9365\n",
            "Epoch 141/200\n",
            "21/21 [==============================] - 3s 132ms/step - loss: 0.3465 - acc: 0.8505 - val_loss: 0.2987 - val_acc: 0.9048\n",
            "Epoch 142/200\n",
            "21/21 [==============================] - 3s 132ms/step - loss: 0.3292 - acc: 0.8629 - val_loss: 0.3295 - val_acc: 0.9048\n",
            "Epoch 143/200\n",
            "21/21 [==============================] - 3s 132ms/step - loss: 0.3611 - acc: 0.8333 - val_loss: 0.2991 - val_acc: 0.9524\n",
            "Epoch 144/200\n",
            "21/21 [==============================] - 3s 132ms/step - loss: 0.3259 - acc: 0.8505 - val_loss: 0.2747 - val_acc: 0.9206\n",
            "Epoch 145/200\n",
            "21/21 [==============================] - 3s 136ms/step - loss: 0.2874 - acc: 0.8801 - val_loss: 0.2592 - val_acc: 0.9048\n",
            "Epoch 146/200\n",
            "21/21 [==============================] - 3s 132ms/step - loss: 0.3166 - acc: 0.8520 - val_loss: 0.3469 - val_acc: 0.9206\n",
            "Epoch 147/200\n",
            "21/21 [==============================] - 3s 133ms/step - loss: 0.3514 - acc: 0.8567 - val_loss: 0.3094 - val_acc: 0.9365\n",
            "Epoch 148/200\n",
            "21/21 [==============================] - 3s 132ms/step - loss: 0.3299 - acc: 0.8676 - val_loss: 0.3898 - val_acc: 0.8889\n",
            "Epoch 149/200\n",
            "21/21 [==============================] - 3s 131ms/step - loss: 0.3341 - acc: 0.8505 - val_loss: 0.3698 - val_acc: 0.9365\n",
            "Epoch 150/200\n",
            "21/21 [==============================] - 3s 132ms/step - loss: 0.4065 - acc: 0.8364 - val_loss: 0.2952 - val_acc: 0.9206\n",
            "Epoch 151/200\n",
            "21/21 [==============================] - 3s 131ms/step - loss: 0.3474 - acc: 0.8474 - val_loss: 0.2908 - val_acc: 0.9206\n",
            "Epoch 152/200\n",
            "21/21 [==============================] - 3s 132ms/step - loss: 0.3271 - acc: 0.8754 - val_loss: 0.3146 - val_acc: 0.9524\n",
            "Epoch 153/200\n",
            "21/21 [==============================] - 3s 132ms/step - loss: 0.2870 - acc: 0.8894 - val_loss: 0.2992 - val_acc: 0.8889\n",
            "Epoch 154/200\n",
            "21/21 [==============================] - 3s 132ms/step - loss: 0.3089 - acc: 0.8738 - val_loss: 0.2958 - val_acc: 0.9206\n",
            "Epoch 155/200\n",
            "21/21 [==============================] - 3s 132ms/step - loss: 0.2834 - acc: 0.8801 - val_loss: 0.2734 - val_acc: 0.9524\n",
            "Epoch 156/200\n",
            "21/21 [==============================] - 3s 132ms/step - loss: 0.3145 - acc: 0.8692 - val_loss: 0.2914 - val_acc: 0.9524\n",
            "Epoch 157/200\n",
            "21/21 [==============================] - 3s 133ms/step - loss: 0.3481 - acc: 0.8442 - val_loss: 0.2996 - val_acc: 0.9524\n",
            "Epoch 158/200\n",
            "21/21 [==============================] - 3s 132ms/step - loss: 0.3105 - acc: 0.8769 - val_loss: 0.3072 - val_acc: 0.9524\n",
            "Epoch 159/200\n",
            "21/21 [==============================] - 3s 132ms/step - loss: 0.2758 - acc: 0.8847 - val_loss: 0.2832 - val_acc: 0.9524\n",
            "Epoch 160/200\n",
            "21/21 [==============================] - 3s 136ms/step - loss: 0.3426 - acc: 0.8489 - val_loss: 0.3740 - val_acc: 0.8730\n",
            "Epoch 161/200\n",
            "21/21 [==============================] - 3s 132ms/step - loss: 0.2724 - acc: 0.8972 - val_loss: 0.3230 - val_acc: 0.9683\n",
            "Epoch 162/200\n",
            "21/21 [==============================] - 3s 132ms/step - loss: 0.2937 - acc: 0.8769 - val_loss: 0.2811 - val_acc: 0.9206\n",
            "Epoch 163/200\n",
            "21/21 [==============================] - 3s 132ms/step - loss: 0.2881 - acc: 0.8801 - val_loss: 0.2889 - val_acc: 0.9365\n",
            "Epoch 164/200\n",
            "21/21 [==============================] - 3s 136ms/step - loss: 0.3193 - acc: 0.8567 - val_loss: 0.3315 - val_acc: 0.9206\n",
            "Epoch 165/200\n",
            "21/21 [==============================] - 3s 131ms/step - loss: 0.5171 - acc: 0.7897 - val_loss: 0.7904 - val_acc: 0.7619\n",
            "Epoch 166/200\n",
            "21/21 [==============================] - 3s 131ms/step - loss: 0.4383 - acc: 0.8115 - val_loss: 0.4106 - val_acc: 0.7937\n",
            "Epoch 167/200\n",
            "21/21 [==============================] - 3s 131ms/step - loss: 0.3959 - acc: 0.8240 - val_loss: 0.3844 - val_acc: 0.8730\n",
            "Epoch 168/200\n",
            "21/21 [==============================] - 3s 132ms/step - loss: 0.3981 - acc: 0.8302 - val_loss: 0.4365 - val_acc: 0.8730\n",
            "Epoch 169/200\n",
            "21/21 [==============================] - 3s 132ms/step - loss: 0.4253 - acc: 0.8162 - val_loss: 0.3384 - val_acc: 0.9048\n",
            "Epoch 170/200\n",
            "21/21 [==============================] - 3s 132ms/step - loss: 0.4066 - acc: 0.8037 - val_loss: 0.3805 - val_acc: 0.8889\n",
            "Epoch 171/200\n",
            "21/21 [==============================] - 3s 132ms/step - loss: 0.3828 - acc: 0.8411 - val_loss: 0.3725 - val_acc: 0.8889\n",
            "Epoch 172/200\n",
            "21/21 [==============================] - 3s 132ms/step - loss: 0.3824 - acc: 0.8255 - val_loss: 0.3583 - val_acc: 0.8889\n",
            "Epoch 173/200\n",
            "21/21 [==============================] - 3s 133ms/step - loss: 0.3867 - acc: 0.8364 - val_loss: 0.4294 - val_acc: 0.9048\n",
            "Epoch 174/200\n",
            "21/21 [==============================] - 3s 132ms/step - loss: 0.3812 - acc: 0.8364 - val_loss: 0.3458 - val_acc: 0.9206\n",
            "Epoch 175/200\n",
            "21/21 [==============================] - 3s 131ms/step - loss: 0.4102 - acc: 0.8240 - val_loss: 0.3945 - val_acc: 0.9206\n",
            "Epoch 176/200\n",
            "21/21 [==============================] - 3s 133ms/step - loss: 0.3515 - acc: 0.8396 - val_loss: 0.3897 - val_acc: 0.8730\n",
            "Epoch 177/200\n",
            "21/21 [==============================] - 3s 132ms/step - loss: 0.3730 - acc: 0.8411 - val_loss: 0.3735 - val_acc: 0.9206\n",
            "Epoch 178/200\n",
            "21/21 [==============================] - 3s 133ms/step - loss: 0.3183 - acc: 0.8598 - val_loss: 0.3400 - val_acc: 0.9206\n",
            "Epoch 179/200\n",
            "21/21 [==============================] - 3s 133ms/step - loss: 0.4002 - acc: 0.8193 - val_loss: 0.4567 - val_acc: 0.7937\n",
            "Epoch 180/200\n",
            "21/21 [==============================] - 3s 133ms/step - loss: 0.3951 - acc: 0.8318 - val_loss: 0.4069 - val_acc: 0.9048\n",
            "Epoch 181/200\n",
            "21/21 [==============================] - 3s 132ms/step - loss: 0.3563 - acc: 0.8442 - val_loss: 0.3632 - val_acc: 0.9048\n",
            "Epoch 182/200\n",
            "21/21 [==============================] - 3s 132ms/step - loss: 0.3558 - acc: 0.8505 - val_loss: 0.4748 - val_acc: 0.8730\n",
            "Epoch 183/200\n",
            "21/21 [==============================] - 3s 133ms/step - loss: 0.3537 - acc: 0.8676 - val_loss: 0.4342 - val_acc: 0.9206\n",
            "Epoch 184/200\n",
            "21/21 [==============================] - 3s 132ms/step - loss: 0.3424 - acc: 0.8614 - val_loss: 0.4055 - val_acc: 0.8889\n",
            "Epoch 185/200\n",
            "21/21 [==============================] - 3s 132ms/step - loss: 0.3460 - acc: 0.8364 - val_loss: 0.3339 - val_acc: 0.9365\n",
            "Epoch 186/200\n",
            "21/21 [==============================] - 3s 135ms/step - loss: 0.2921 - acc: 0.8769 - val_loss: 0.4575 - val_acc: 0.8730\n",
            "Epoch 187/200\n",
            "21/21 [==============================] - 3s 132ms/step - loss: 0.3125 - acc: 0.8692 - val_loss: 0.4707 - val_acc: 0.9206\n",
            "Epoch 188/200\n",
            "21/21 [==============================] - 3s 132ms/step - loss: 0.3228 - acc: 0.8645 - val_loss: 0.3406 - val_acc: 0.9365\n",
            "Epoch 189/200\n",
            "21/21 [==============================] - 3s 132ms/step - loss: 0.3198 - acc: 0.8660 - val_loss: 0.4104 - val_acc: 0.8889\n",
            "Epoch 190/200\n",
            "21/21 [==============================] - 3s 133ms/step - loss: 0.3162 - acc: 0.8660 - val_loss: 0.2934 - val_acc: 0.9524\n",
            "Epoch 191/200\n",
            "21/21 [==============================] - 3s 132ms/step - loss: 0.2617 - acc: 0.8972 - val_loss: 0.3194 - val_acc: 0.9524\n",
            "Epoch 192/200\n",
            "21/21 [==============================] - 3s 133ms/step - loss: 0.2738 - acc: 0.8801 - val_loss: 0.2976 - val_acc: 0.9365\n",
            "Epoch 193/200\n",
            "21/21 [==============================] - 3s 133ms/step - loss: 0.3261 - acc: 0.8583 - val_loss: 0.3277 - val_acc: 0.9365\n",
            "Epoch 194/200\n",
            "21/21 [==============================] - 3s 136ms/step - loss: 0.2552 - acc: 0.8847 - val_loss: 0.3472 - val_acc: 0.9365\n",
            "Epoch 195/200\n",
            "21/21 [==============================] - 3s 134ms/step - loss: 0.2982 - acc: 0.8723 - val_loss: 0.2622 - val_acc: 0.9524\n",
            "Epoch 196/200\n",
            "21/21 [==============================] - 3s 132ms/step - loss: 0.2744 - acc: 0.8847 - val_loss: 0.3185 - val_acc: 0.9365\n",
            "Epoch 197/200\n",
            "21/21 [==============================] - 3s 133ms/step - loss: 0.2410 - acc: 0.8972 - val_loss: 0.2592 - val_acc: 0.9365\n",
            "Epoch 198/200\n",
            "21/21 [==============================] - 3s 132ms/step - loss: 0.2299 - acc: 0.9065 - val_loss: 0.2792 - val_acc: 0.9683\n",
            "Epoch 199/200\n",
            "21/21 [==============================] - 3s 132ms/step - loss: 0.2409 - acc: 0.9019 - val_loss: 0.2832 - val_acc: 0.9365\n",
            "Epoch 200/200\n",
            "21/21 [==============================] - 3s 131ms/step - loss: 0.2678 - acc: 0.8894 - val_loss: 0.2373 - val_acc: 0.9524\n"
          ]
        }
      ]
    },
    {
      "cell_type": "markdown",
      "source": [
        ""
      ],
      "metadata": {
        "id": "aBK-m7fKJ5AD"
      }
    },
    {
      "cell_type": "code",
      "source": [
        "model.save('Breast_cancer.h5')"
      ],
      "metadata": {
        "id": "poEmOX4DJ4Hu"
      },
      "execution_count": 67,
      "outputs": []
    },
    {
      "cell_type": "markdown",
      "source": [
        ""
      ],
      "metadata": {
        "id": "JI_fik3KJ63X"
      }
    },
    {
      "cell_type": "code",
      "source": [
        "plt.plot(history.history['acc'])\n",
        "plt.plot(history.history['val_acc'])\n",
        "plt.title('MODEL ACCURACY')\n",
        "plt.xlabel('epoch')\n",
        "plt.ylabel('accuracy')\n",
        "plt.legend(['Train','Validation'],loc='upper left')\n",
        "plt.show\n",
        "\n",
        "score = model.evaluate(x_test,y_test,verbose=0)\n",
        "print('Test loss:', score[0])\n",
        "print('Test accuracy:', score[1])"
      ],
      "metadata": {
        "colab": {
          "base_uri": "https://localhost:8080/",
          "height": 331
        },
        "id": "lxtwwGhyJ7W4",
        "outputId": "191a0769-3437-4d46-bb4b-f288155ea2d6"
      },
      "execution_count": 65,
      "outputs": [
        {
          "output_type": "stream",
          "name": "stdout",
          "text": [
            "Test loss: 0.23732277750968933\n",
            "Test accuracy: 0.9523809552192688\n"
          ]
        },
        {
          "output_type": "display_data",
          "data": {
            "text/plain": [
              "<Figure size 432x288 with 1 Axes>"
            ],
            "image/png": "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\n"
          },
          "metadata": {
            "needs_background": "light"
          }
        }
      ]
    },
    {
      "cell_type": "code",
      "source": [
        "img = load_img('/content/drive/MyDrive/data/test/malignant6.png', target_size=(200, 200))\n",
        "img = img_to_array(img)\n",
        "img = img.reshape(1, 200, 200, 3)\n",
        "img = img.astype('float32')\n",
        "img = img / 255\n",
        "\n",
        "model = load_model('Breast_cancer.h5')\n",
        "plt.imshow(img.reshape(200,200,3), cmap='gray')\n",
        "\n",
        "result = model.predict(img.reshape(1,200,200,3))\n",
        "if np.argmax(result) == 0:\n",
        "   i = \"Begnign Case\"\n",
        "elif np.argmax(result) == 1:\n",
        "   i = \"Malignant Case\"\n",
        "elif np.argmax(result) == 2:\n",
        "   i = \"Normal Case\"\n",
        "print('Chẩn đoán: ', i)\n",
        "plt.show("
      ],
      "metadata": {
        "colab": {
          "base_uri": "https://localhost:8080/",
          "height": 287
        },
        "id": "vNKosXSko6PD",
        "outputId": "716d9dcd-c50f-4d1c-b5e1-75881aaf22cb"
      },
      "execution_count": 78,
      "outputs": [
        {
          "output_type": "stream",
          "name": "stdout",
          "text": [
            "Chẩn đoán:  Malignant Case\n"
          ]
        },
        {
          "output_type": "display_data",
          "data": {
            "text/plain": [
              "<Figure size 432x288 with 1 Axes>"
            ],
            "image/png": "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\n"
          },
          "metadata": {
            "needs_background": "light"
          }
        }
      ]
    },
    {
      "cell_type": "code",
      "source": [
        ""
      ],
      "metadata": {
        "id": "yuT7JsENzXr7"
      },
      "execution_count": null,
      "outputs": []
    }
  ]
}
